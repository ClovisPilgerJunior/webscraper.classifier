{
 "cells": [
  {
   "cell_type": "code",
   "execution_count": 1,
   "id": "f3a7fdcb",
   "metadata": {},
   "outputs": [],
   "source": [
    "import pandas as pd"
   ]
  },
  {
   "cell_type": "code",
   "execution_count": 2,
   "id": "c217f362",
   "metadata": {},
   "outputs": [],
   "source": [
    "a = pd.read_csv(\"data_predicted.csv\")"
   ]
  },
  {
   "cell_type": "code",
   "execution_count": 3,
   "id": "4098756a",
   "metadata": {},
   "outputs": [
    {
     "data": {
      "text/html": [
       "<div>\n",
       "<style scoped>\n",
       "    .dataframe tbody tr th:only-of-type {\n",
       "        vertical-align: middle;\n",
       "    }\n",
       "\n",
       "    .dataframe tbody tr th {\n",
       "        vertical-align: top;\n",
       "    }\n",
       "\n",
       "    .dataframe thead th {\n",
       "        text-align: right;\n",
       "    }\n",
       "</style>\n",
       "<table border=\"1\" class=\"dataframe\">\n",
       "  <thead>\n",
       "    <tr style=\"text-align: right;\">\n",
       "      <th></th>\n",
       "      <th>ID</th>\n",
       "      <th>DATA</th>\n",
       "      <th>TITULO</th>\n",
       "      <th>EMPRESA</th>\n",
       "      <th>LOCAL</th>\n",
       "      <th>LINK</th>\n",
       "      <th>DESCRICAO</th>\n",
       "      <th>0</th>\n",
       "    </tr>\n",
       "  </thead>\n",
       "  <tbody>\n",
       "    <tr>\n",
       "      <th>0</th>\n",
       "      <td>cientista-de-dados-sr-pol%C3%ADticas-de-cr%C3%...</td>\n",
       "      <td>2023-07-13</td>\n",
       "      <td>Cientista de Dados Sr - Políticas de Crédito</td>\n",
       "      <td>Porto</td>\n",
       "      <td>São Paulo, SP</td>\n",
       "      <td>https://br.linkedin.com/jobs/view/cientista-de...</td>\n",
       "      <td>Job Description\\n\\nA área de Riscos e Política...</td>\n",
       "      <td>0.327242</td>\n",
       "    </tr>\n",
       "    <tr>\n",
       "      <th>1</th>\n",
       "      <td>fraud-manager-latam-remote-at-hopper-3662309981</td>\n",
       "      <td>2023-07-13</td>\n",
       "      <td>Fraud Manager, LatAm (remote)</td>\n",
       "      <td>Hopper</td>\n",
       "      <td>Brasil</td>\n",
       "      <td>https://br.linkedin.com/jobs/view/fraud-manage...</td>\n",
       "      <td>Despite the challenges of the pandemic, Hopper...</td>\n",
       "      <td>0.628784</td>\n",
       "    </tr>\n",
       "    <tr>\n",
       "      <th>2</th>\n",
       "      <td>cientista-de-dados-s%C3%AAnior-home-office-at-...</td>\n",
       "      <td>2023-07-13</td>\n",
       "      <td>Cientista de dados sênior (Home Office)</td>\n",
       "      <td>Farisco</td>\n",
       "      <td>São Paulo e Região</td>\n",
       "      <td>https://br.linkedin.com/jobs/view/cientista-de...</td>\n",
       "      <td>Irá atuar com extração e manipulação de grande...</td>\n",
       "      <td>0.365575</td>\n",
       "    </tr>\n",
       "    <tr>\n",
       "      <th>3</th>\n",
       "      <td>carbon-project-analyst-at-atmos-climate-365930...</td>\n",
       "      <td>2023-07-13</td>\n",
       "      <td>Carbon Project Analyst</td>\n",
       "      <td>Atmos Climate</td>\n",
       "      <td>Brasil</td>\n",
       "      <td>https://br.linkedin.com/jobs/view/carbon-proje...</td>\n",
       "      <td>Company Description:\\nAtmos is a rapidly growi...</td>\n",
       "      <td>0.220468</td>\n",
       "    </tr>\n",
       "    <tr>\n",
       "      <th>4</th>\n",
       "      <td>cientista-de-dados-s%C3%AAnior-at-innolevels-3...</td>\n",
       "      <td>2023-07-13</td>\n",
       "      <td>Cientista de dados Sênior</td>\n",
       "      <td>innolevels</td>\n",
       "      <td>Rio de Janeiro, RJ</td>\n",
       "      <td>https://br.linkedin.com/jobs/view/cientista-de...</td>\n",
       "      <td>Especialista em Data Science e Analytics, tend...</td>\n",
       "      <td>0.905006</td>\n",
       "    </tr>\n",
       "  </tbody>\n",
       "</table>\n",
       "</div>"
      ],
      "text/plain": [
       "                                                  ID        DATA  \\\n",
       "0  cientista-de-dados-sr-pol%C3%ADticas-de-cr%C3%...  2023-07-13   \n",
       "1    fraud-manager-latam-remote-at-hopper-3662309981  2023-07-13   \n",
       "2  cientista-de-dados-s%C3%AAnior-home-office-at-...  2023-07-13   \n",
       "3  carbon-project-analyst-at-atmos-climate-365930...  2023-07-13   \n",
       "4  cientista-de-dados-s%C3%AAnior-at-innolevels-3...  2023-07-13   \n",
       "\n",
       "                                         TITULO        EMPRESA  \\\n",
       "0  Cientista de Dados Sr - Políticas de Crédito          Porto   \n",
       "1                 Fraud Manager, LatAm (remote)         Hopper   \n",
       "2       Cientista de dados sênior (Home Office)        Farisco   \n",
       "3                        Carbon Project Analyst  Atmos Climate   \n",
       "4                     Cientista de dados Sênior     innolevels   \n",
       "\n",
       "                LOCAL                                               LINK  \\\n",
       "0       São Paulo, SP  https://br.linkedin.com/jobs/view/cientista-de...   \n",
       "1              Brasil  https://br.linkedin.com/jobs/view/fraud-manage...   \n",
       "2  São Paulo e Região  https://br.linkedin.com/jobs/view/cientista-de...   \n",
       "3              Brasil  https://br.linkedin.com/jobs/view/carbon-proje...   \n",
       "4  Rio de Janeiro, RJ  https://br.linkedin.com/jobs/view/cientista-de...   \n",
       "\n",
       "                                           DESCRICAO         0  \n",
       "0  Job Description\\n\\nA área de Riscos e Política...  0.327242  \n",
       "1  Despite the challenges of the pandemic, Hopper...  0.628784  \n",
       "2  Irá atuar com extração e manipulação de grande...  0.365575  \n",
       "3  Company Description:\\nAtmos is a rapidly growi...  0.220468  \n",
       "4  Especialista em Data Science e Analytics, tend...  0.905006  "
      ]
     },
     "execution_count": 3,
     "metadata": {},
     "output_type": "execute_result"
    }
   ],
   "source": [
    "a.head()"
   ]
  },
  {
   "cell_type": "code",
   "execution_count": null,
   "id": "3e284974",
   "metadata": {},
   "outputs": [],
   "source": []
  }
 ],
 "metadata": {
  "kernelspec": {
   "display_name": "Python 3 (ipykernel)",
   "language": "python",
   "name": "python3"
  },
  "language_info": {
   "codemirror_mode": {
    "name": "ipython",
    "version": 3
   },
   "file_extension": ".py",
   "mimetype": "text/x-python",
   "name": "python",
   "nbconvert_exporter": "python",
   "pygments_lexer": "ipython3",
   "version": "3.9.13"
  }
 },
 "nbformat": 4,
 "nbformat_minor": 5
}
