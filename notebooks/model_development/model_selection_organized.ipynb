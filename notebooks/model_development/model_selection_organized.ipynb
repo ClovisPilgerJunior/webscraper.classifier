{
 "cells": [
  {
   "cell_type": "markdown",
   "id": "e0d02907",
   "metadata": {},
   "source": [
    "# Importação das bibliotecas necessárias\n"
   ]
  },
  {
   "cell_type": "code",
   "execution_count": 2,
   "id": "d64f2d92",
   "metadata": {},
   "outputs": [],
   "source": [
    "import pandas as pd\n",
    "from sklearn.model_selection import train_test_split\n",
    "from sklearn.feature_extraction.text import TfidfVectorizer\n",
    "from sklearn.ensemble import RandomForestClassifier\n",
    "from sklearn.metrics import classification_report\n",
    "from sklearn.model_selection import GridSearchCV\n",
    "import matplotlib.pyplot as plt\n",
    "import nltk\n",
    "from nltk.corpus import stopwords\n",
    "from nltk.tokenize import word_tokenize\n",
    "import string\n",
    "import xgboost as xgb\n",
    "import pickle\n",
    "from sklearn.pipeline import Pipeline\n",
    "from sklearn.preprocessing import FunctionTransformer\n",
    "from sklearn.base import BaseEstimator, TransformerMixin\n",
    "\n"
   ]
  },
  {
   "cell_type": "code",
   "execution_count": 2,
   "id": "ca562a1f",
   "metadata": {},
   "outputs": [
    {
     "name": "stderr",
     "output_type": "stream",
     "text": [
      "[nltk_data] Downloading package punkt to\n",
      "[nltk_data]     C:\\Users\\vitor\\AppData\\Roaming\\nltk_data...\n",
      "[nltk_data]   Package punkt is already up-to-date!\n"
     ]
    },
    {
     "data": {
      "text/plain": [
       "True"
      ]
     },
     "execution_count": 2,
     "metadata": {},
     "output_type": "execute_result"
    }
   ],
   "source": [
    "nltk.download('punkt')"
   ]
  },
  {
   "cell_type": "code",
   "execution_count": 3,
   "id": "bf1ad5d8",
   "metadata": {
    "scrolled": true
   },
   "outputs": [
    {
     "name": "stdout",
     "output_type": "stream",
     "text": [
      "Requirement already satisfied: spacy in c:\\users\\vitor\\anaconda3\\lib\\site-packages (3.6.0)\n",
      "Requirement already satisfied: murmurhash<1.1.0,>=0.28.0 in c:\\users\\vitor\\anaconda3\\lib\\site-packages (from spacy) (1.0.9)\n",
      "Requirement already satisfied: numpy>=1.15.0 in c:\\users\\vitor\\anaconda3\\lib\\site-packages (from spacy) (1.23.5)\n",
      "Requirement already satisfied: tqdm<5.0.0,>=4.38.0 in c:\\users\\vitor\\anaconda3\\lib\\site-packages (from spacy) (4.64.1)\n",
      "Requirement already satisfied: pathy>=0.10.0 in c:\\users\\vitor\\anaconda3\\lib\\site-packages (from spacy) (0.10.2)\n",
      "Requirement already satisfied: catalogue<2.1.0,>=2.0.6 in c:\\users\\vitor\\anaconda3\\lib\\site-packages (from spacy) (2.0.8)\n",
      "Requirement already satisfied: requests<3.0.0,>=2.13.0 in c:\\users\\vitor\\anaconda3\\lib\\site-packages (from spacy) (2.28.1)\n",
      "Requirement already satisfied: langcodes<4.0.0,>=3.2.0 in c:\\users\\vitor\\anaconda3\\lib\\site-packages (from spacy) (3.3.0)\n",
      "Requirement already satisfied: wasabi<1.2.0,>=0.9.1 in c:\\users\\vitor\\anaconda3\\lib\\site-packages (from spacy) (1.1.2)\n",
      "Requirement already satisfied: cymem<2.1.0,>=2.0.2 in c:\\users\\vitor\\anaconda3\\lib\\site-packages (from spacy) (2.0.7)\n",
      "Requirement already satisfied: packaging>=20.0 in c:\\users\\vitor\\anaconda3\\lib\\site-packages (from spacy) (23.1)\n",
      "Requirement already satisfied: spacy-loggers<2.0.0,>=1.0.0 in c:\\users\\vitor\\anaconda3\\lib\\site-packages (from spacy) (1.0.4)\n",
      "Requirement already satisfied: thinc<8.2.0,>=8.1.8 in c:\\users\\vitor\\anaconda3\\lib\\site-packages (from spacy) (8.1.10)\n",
      "Requirement already satisfied: srsly<3.0.0,>=2.4.3 in c:\\users\\vitor\\anaconda3\\lib\\site-packages (from spacy) (2.4.6)\n",
      "Requirement already satisfied: preshed<3.1.0,>=3.0.2 in c:\\users\\vitor\\anaconda3\\lib\\site-packages (from spacy) (3.0.8)\n",
      "Requirement already satisfied: pydantic!=1.8,!=1.8.1,<1.11.0,>=1.7.4 in c:\\users\\vitor\\anaconda3\\lib\\site-packages (from spacy) (1.10.9)\n",
      "Requirement already satisfied: smart-open<7.0.0,>=5.2.1 in c:\\users\\vitor\\anaconda3\\lib\\site-packages (from spacy) (5.2.1)\n",
      "Requirement already satisfied: typer<0.10.0,>=0.3.0 in c:\\users\\vitor\\anaconda3\\lib\\site-packages (from spacy) (0.9.0)\n",
      "Requirement already satisfied: jinja2 in c:\\users\\vitor\\anaconda3\\lib\\site-packages (from spacy) (2.11.3)\n",
      "Requirement already satisfied: spacy-legacy<3.1.0,>=3.0.11 in c:\\users\\vitor\\anaconda3\\lib\\site-packages (from spacy) (3.0.12)\n",
      "Requirement already satisfied: setuptools in c:\\users\\vitor\\anaconda3\\lib\\site-packages (from spacy) (63.4.1)\n",
      "Requirement already satisfied: typing-extensions>=4.2.0 in c:\\users\\vitor\\anaconda3\\lib\\site-packages (from pydantic!=1.8,!=1.8.1,<1.11.0,>=1.7.4->spacy) (4.3.0)\n",
      "Requirement already satisfied: idna<4,>=2.5 in c:\\users\\vitor\\anaconda3\\lib\\site-packages (from requests<3.0.0,>=2.13.0->spacy) (2.10)\n",
      "Requirement already satisfied: urllib3<1.27,>=1.21.1 in c:\\users\\vitor\\anaconda3\\lib\\site-packages (from requests<3.0.0,>=2.13.0->spacy) (1.26.11)\n",
      "Requirement already satisfied: certifi>=2017.4.17 in c:\\users\\vitor\\anaconda3\\lib\\site-packages (from requests<3.0.0,>=2.13.0->spacy) (2022.9.14)\n",
      "Requirement already satisfied: charset-normalizer<3,>=2 in c:\\users\\vitor\\anaconda3\\lib\\site-packages (from requests<3.0.0,>=2.13.0->spacy) (2.0.4)\n",
      "Requirement already satisfied: blis<0.8.0,>=0.7.8 in c:\\users\\vitor\\anaconda3\\lib\\site-packages (from thinc<8.2.0,>=8.1.8->spacy) (0.7.9)\n",
      "Requirement already satisfied: confection<1.0.0,>=0.0.1 in c:\\users\\vitor\\anaconda3\\lib\\site-packages (from thinc<8.2.0,>=8.1.8->spacy) (0.1.0)\n",
      "Requirement already satisfied: colorama in c:\\users\\vitor\\anaconda3\\lib\\site-packages (from tqdm<5.0.0,>=4.38.0->spacy) (0.4.6)\n",
      "Requirement already satisfied: click<9.0.0,>=7.1.1 in c:\\users\\vitor\\anaconda3\\lib\\site-packages (from typer<0.10.0,>=0.3.0->spacy) (8.0.4)\n",
      "Requirement already satisfied: MarkupSafe>=0.23 in c:\\users\\vitor\\anaconda3\\lib\\site-packages (from jinja2->spacy) (2.0.1)\n",
      "Note: you may need to restart the kernel to use updated packages.\n"
     ]
    }
   ],
   "source": [
    "pip install spacy"
   ]
  },
  {
   "cell_type": "code",
   "execution_count": 4,
   "id": "36fc99ef",
   "metadata": {},
   "outputs": [
    {
     "name": "stdout",
     "output_type": "stream",
     "text": [
      "Collecting en-core-web-sm==3.6.0\n",
      "  Downloading https://github.com/explosion/spacy-models/releases/download/en_core_web_sm-3.6.0/en_core_web_sm-3.6.0-py3-none-any.whl (12.8 MB)\n",
      "     --------------------------------------- 12.8/12.8 MB 31.2 MB/s eta 0:00:00\n",
      "Requirement already satisfied: spacy<3.7.0,>=3.6.0 in c:\\users\\vitor\\anaconda3\\lib\\site-packages (from en-core-web-sm==3.6.0) (3.6.0)\n",
      "Requirement already satisfied: spacy-loggers<2.0.0,>=1.0.0 in c:\\users\\vitor\\anaconda3\\lib\\site-packages (from spacy<3.7.0,>=3.6.0->en-core-web-sm==3.6.0) (1.0.4)\n",
      "Requirement already satisfied: typer<0.10.0,>=0.3.0 in c:\\users\\vitor\\anaconda3\\lib\\site-packages (from spacy<3.7.0,>=3.6.0->en-core-web-sm==3.6.0) (0.9.0)\n",
      "Requirement already satisfied: smart-open<7.0.0,>=5.2.1 in c:\\users\\vitor\\anaconda3\\lib\\site-packages (from spacy<3.7.0,>=3.6.0->en-core-web-sm==3.6.0) (5.2.1)\n",
      "Requirement already satisfied: setuptools in c:\\users\\vitor\\anaconda3\\lib\\site-packages (from spacy<3.7.0,>=3.6.0->en-core-web-sm==3.6.0) (63.4.1)\n",
      "Requirement already satisfied: requests<3.0.0,>=2.13.0 in c:\\users\\vitor\\anaconda3\\lib\\site-packages (from spacy<3.7.0,>=3.6.0->en-core-web-sm==3.6.0) (2.28.1)\n",
      "Requirement already satisfied: catalogue<2.1.0,>=2.0.6 in c:\\users\\vitor\\anaconda3\\lib\\site-packages (from spacy<3.7.0,>=3.6.0->en-core-web-sm==3.6.0) (2.0.8)\n",
      "Requirement already satisfied: preshed<3.1.0,>=3.0.2 in c:\\users\\vitor\\anaconda3\\lib\\site-packages (from spacy<3.7.0,>=3.6.0->en-core-web-sm==3.6.0) (3.0.8)\n",
      "Requirement already satisfied: wasabi<1.2.0,>=0.9.1 in c:\\users\\vitor\\anaconda3\\lib\\site-packages (from spacy<3.7.0,>=3.6.0->en-core-web-sm==3.6.0) (1.1.2)\n",
      "Requirement already satisfied: spacy-legacy<3.1.0,>=3.0.11 in c:\\users\\vitor\\anaconda3\\lib\\site-packages (from spacy<3.7.0,>=3.6.0->en-core-web-sm==3.6.0) (3.0.12)\n",
      "Requirement already satisfied: murmurhash<1.1.0,>=0.28.0 in c:\\users\\vitor\\anaconda3\\lib\\site-packages (from spacy<3.7.0,>=3.6.0->en-core-web-sm==3.6.0) (1.0.9)\n",
      "Requirement already satisfied: numpy>=1.15.0 in c:\\users\\vitor\\anaconda3\\lib\\site-packages (from spacy<3.7.0,>=3.6.0->en-core-web-sm==3.6.0) (1.23.5)\n",
      "Requirement already satisfied: jinja2 in c:\\users\\vitor\\anaconda3\\lib\\site-packages (from spacy<3.7.0,>=3.6.0->en-core-web-sm==3.6.0) (2.11.3)\n",
      "Requirement already satisfied: pydantic!=1.8,!=1.8.1,<1.11.0,>=1.7.4 in c:\\users\\vitor\\anaconda3\\lib\\site-packages (from spacy<3.7.0,>=3.6.0->en-core-web-sm==3.6.0) (1.10.9)\n",
      "Requirement already satisfied: packaging>=20.0 in c:\\users\\vitor\\anaconda3\\lib\\site-packages (from spacy<3.7.0,>=3.6.0->en-core-web-sm==3.6.0) (23.1)\n",
      "Requirement already satisfied: langcodes<4.0.0,>=3.2.0 in c:\\users\\vitor\\anaconda3\\lib\\site-packages (from spacy<3.7.0,>=3.6.0->en-core-web-sm==3.6.0) (3.3.0)\n",
      "Requirement already satisfied: pathy>=0.10.0 in c:\\users\\vitor\\anaconda3\\lib\\site-packages (from spacy<3.7.0,>=3.6.0->en-core-web-sm==3.6.0) (0.10.2)\n",
      "Requirement already satisfied: tqdm<5.0.0,>=4.38.0 in c:\\users\\vitor\\anaconda3\\lib\\site-packages (from spacy<3.7.0,>=3.6.0->en-core-web-sm==3.6.0) (4.64.1)\n",
      "Requirement already satisfied: thinc<8.2.0,>=8.1.8 in c:\\users\\vitor\\anaconda3\\lib\\site-packages (from spacy<3.7.0,>=3.6.0->en-core-web-sm==3.6.0) (8.1.10)\n",
      "Requirement already satisfied: cymem<2.1.0,>=2.0.2 in c:\\users\\vitor\\anaconda3\\lib\\site-packages (from spacy<3.7.0,>=3.6.0->en-core-web-sm==3.6.0) (2.0.7)\n",
      "Requirement already satisfied: srsly<3.0.0,>=2.4.3 in c:\\users\\vitor\\anaconda3\\lib\\site-packages (from spacy<3.7.0,>=3.6.0->en-core-web-sm==3.6.0) (2.4.6)\n",
      "Requirement already satisfied: typing-extensions>=4.2.0 in c:\\users\\vitor\\anaconda3\\lib\\site-packages (from pydantic!=1.8,!=1.8.1,<1.11.0,>=1.7.4->spacy<3.7.0,>=3.6.0->en-core-web-sm==3.6.0) (4.3.0)\n",
      "Requirement already satisfied: certifi>=2017.4.17 in c:\\users\\vitor\\anaconda3\\lib\\site-packages (from requests<3.0.0,>=2.13.0->spacy<3.7.0,>=3.6.0->en-core-web-sm==3.6.0) (2022.9.14)\n",
      "Requirement already satisfied: charset-normalizer<3,>=2 in c:\\users\\vitor\\anaconda3\\lib\\site-packages (from requests<3.0.0,>=2.13.0->spacy<3.7.0,>=3.6.0->en-core-web-sm==3.6.0) (2.0.4)\n",
      "Requirement already satisfied: urllib3<1.27,>=1.21.1 in c:\\users\\vitor\\anaconda3\\lib\\site-packages (from requests<3.0.0,>=2.13.0->spacy<3.7.0,>=3.6.0->en-core-web-sm==3.6.0) (1.26.11)\n",
      "Requirement already satisfied: idna<4,>=2.5 in c:\\users\\vitor\\anaconda3\\lib\\site-packages (from requests<3.0.0,>=2.13.0->spacy<3.7.0,>=3.6.0->en-core-web-sm==3.6.0) (2.10)\n",
      "Requirement already satisfied: confection<1.0.0,>=0.0.1 in c:\\users\\vitor\\anaconda3\\lib\\site-packages (from thinc<8.2.0,>=8.1.8->spacy<3.7.0,>=3.6.0->en-core-web-sm==3.6.0) (0.1.0)\n",
      "Requirement already satisfied: blis<0.8.0,>=0.7.8 in c:\\users\\vitor\\anaconda3\\lib\\site-packages (from thinc<8.2.0,>=8.1.8->spacy<3.7.0,>=3.6.0->en-core-web-sm==3.6.0) (0.7.9)\n",
      "Requirement already satisfied: colorama in c:\\users\\vitor\\anaconda3\\lib\\site-packages (from tqdm<5.0.0,>=4.38.0->spacy<3.7.0,>=3.6.0->en-core-web-sm==3.6.0) (0.4.6)\n",
      "Requirement already satisfied: click<9.0.0,>=7.1.1 in c:\\users\\vitor\\anaconda3\\lib\\site-packages (from typer<0.10.0,>=0.3.0->spacy<3.7.0,>=3.6.0->en-core-web-sm==3.6.0) (8.0.4)\n",
      "Requirement already satisfied: MarkupSafe>=0.23 in c:\\users\\vitor\\anaconda3\\lib\\site-packages (from jinja2->spacy<3.7.0,>=3.6.0->en-core-web-sm==3.6.0) (2.0.1)\n",
      "\u001b[38;5;2m[+] Download and installation successful\u001b[0m\n",
      "You can now load the package via spacy.load('en_core_web_sm')\n",
      "Collecting pt-core-news-sm==3.6.0\n",
      "  Downloading https://github.com/explosion/spacy-models/releases/download/pt_core_news_sm-3.6.0/pt_core_news_sm-3.6.0-py3-none-any.whl (13.0 MB)\n",
      "     --------------------------------------- 13.0/13.0 MB 28.5 MB/s eta 0:00:00\n",
      "Requirement already satisfied: spacy<3.7.0,>=3.6.0 in c:\\users\\vitor\\anaconda3\\lib\\site-packages (from pt-core-news-sm==3.6.0) (3.6.0)\n",
      "Requirement already satisfied: numpy>=1.15.0 in c:\\users\\vitor\\anaconda3\\lib\\site-packages (from spacy<3.7.0,>=3.6.0->pt-core-news-sm==3.6.0) (1.23.5)\n",
      "Requirement already satisfied: murmurhash<1.1.0,>=0.28.0 in c:\\users\\vitor\\anaconda3\\lib\\site-packages (from spacy<3.7.0,>=3.6.0->pt-core-news-sm==3.6.0) (1.0.9)\n",
      "Requirement already satisfied: thinc<8.2.0,>=8.1.8 in c:\\users\\vitor\\anaconda3\\lib\\site-packages (from spacy<3.7.0,>=3.6.0->pt-core-news-sm==3.6.0) (8.1.10)\n",
      "Requirement already satisfied: srsly<3.0.0,>=2.4.3 in c:\\users\\vitor\\anaconda3\\lib\\site-packages (from spacy<3.7.0,>=3.6.0->pt-core-news-sm==3.6.0) (2.4.6)\n",
      "Requirement already satisfied: pathy>=0.10.0 in c:\\users\\vitor\\anaconda3\\lib\\site-packages (from spacy<3.7.0,>=3.6.0->pt-core-news-sm==3.6.0) (0.10.2)\n",
      "Requirement already satisfied: catalogue<2.1.0,>=2.0.6 in c:\\users\\vitor\\anaconda3\\lib\\site-packages (from spacy<3.7.0,>=3.6.0->pt-core-news-sm==3.6.0) (2.0.8)\n",
      "Requirement already satisfied: smart-open<7.0.0,>=5.2.1 in c:\\users\\vitor\\anaconda3\\lib\\site-packages (from spacy<3.7.0,>=3.6.0->pt-core-news-sm==3.6.0) (5.2.1)\n",
      "Requirement already satisfied: langcodes<4.0.0,>=3.2.0 in c:\\users\\vitor\\anaconda3\\lib\\site-packages (from spacy<3.7.0,>=3.6.0->pt-core-news-sm==3.6.0) (3.3.0)\n",
      "Requirement already satisfied: jinja2 in c:\\users\\vitor\\anaconda3\\lib\\site-packages (from spacy<3.7.0,>=3.6.0->pt-core-news-sm==3.6.0) (2.11.3)\n",
      "Requirement already satisfied: spacy-legacy<3.1.0,>=3.0.11 in c:\\users\\vitor\\anaconda3\\lib\\site-packages (from spacy<3.7.0,>=3.6.0->pt-core-news-sm==3.6.0) (3.0.12)\n",
      "Requirement already satisfied: spacy-loggers<2.0.0,>=1.0.0 in c:\\users\\vitor\\anaconda3\\lib\\site-packages (from spacy<3.7.0,>=3.6.0->pt-core-news-sm==3.6.0) (1.0.4)\n",
      "Requirement already satisfied: wasabi<1.2.0,>=0.9.1 in c:\\users\\vitor\\anaconda3\\lib\\site-packages (from spacy<3.7.0,>=3.6.0->pt-core-news-sm==3.6.0) (1.1.2)\n",
      "Requirement already satisfied: preshed<3.1.0,>=3.0.2 in c:\\users\\vitor\\anaconda3\\lib\\site-packages (from spacy<3.7.0,>=3.6.0->pt-core-news-sm==3.6.0) (3.0.8)\n",
      "Requirement already satisfied: setuptools in c:\\users\\vitor\\anaconda3\\lib\\site-packages (from spacy<3.7.0,>=3.6.0->pt-core-news-sm==3.6.0) (63.4.1)\n",
      "Requirement already satisfied: typer<0.10.0,>=0.3.0 in c:\\users\\vitor\\anaconda3\\lib\\site-packages (from spacy<3.7.0,>=3.6.0->pt-core-news-sm==3.6.0) (0.9.0)\n",
      "Requirement already satisfied: cymem<2.1.0,>=2.0.2 in c:\\users\\vitor\\anaconda3\\lib\\site-packages (from spacy<3.7.0,>=3.6.0->pt-core-news-sm==3.6.0) (2.0.7)\n",
      "Requirement already satisfied: packaging>=20.0 in c:\\users\\vitor\\anaconda3\\lib\\site-packages (from spacy<3.7.0,>=3.6.0->pt-core-news-sm==3.6.0) (23.1)\n",
      "Requirement already satisfied: pydantic!=1.8,!=1.8.1,<1.11.0,>=1.7.4 in c:\\users\\vitor\\anaconda3\\lib\\site-packages (from spacy<3.7.0,>=3.6.0->pt-core-news-sm==3.6.0) (1.10.9)\n",
      "Requirement already satisfied: requests<3.0.0,>=2.13.0 in c:\\users\\vitor\\anaconda3\\lib\\site-packages (from spacy<3.7.0,>=3.6.0->pt-core-news-sm==3.6.0) (2.28.1)\n",
      "Requirement already satisfied: tqdm<5.0.0,>=4.38.0 in c:\\users\\vitor\\anaconda3\\lib\\site-packages (from spacy<3.7.0,>=3.6.0->pt-core-news-sm==3.6.0) (4.64.1)\n",
      "Requirement already satisfied: typing-extensions>=4.2.0 in c:\\users\\vitor\\anaconda3\\lib\\site-packages (from pydantic!=1.8,!=1.8.1,<1.11.0,>=1.7.4->spacy<3.7.0,>=3.6.0->pt-core-news-sm==3.6.0) (4.3.0)\n",
      "Requirement already satisfied: charset-normalizer<3,>=2 in c:\\users\\vitor\\anaconda3\\lib\\site-packages (from requests<3.0.0,>=2.13.0->spacy<3.7.0,>=3.6.0->pt-core-news-sm==3.6.0) (2.0.4)\n",
      "Requirement already satisfied: idna<4,>=2.5 in c:\\users\\vitor\\anaconda3\\lib\\site-packages (from requests<3.0.0,>=2.13.0->spacy<3.7.0,>=3.6.0->pt-core-news-sm==3.6.0) (2.10)\n",
      "Requirement already satisfied: urllib3<1.27,>=1.21.1 in c:\\users\\vitor\\anaconda3\\lib\\site-packages (from requests<3.0.0,>=2.13.0->spacy<3.7.0,>=3.6.0->pt-core-news-sm==3.6.0) (1.26.11)\n",
      "Requirement already satisfied: certifi>=2017.4.17 in c:\\users\\vitor\\anaconda3\\lib\\site-packages (from requests<3.0.0,>=2.13.0->spacy<3.7.0,>=3.6.0->pt-core-news-sm==3.6.0) (2022.9.14)\n",
      "Requirement already satisfied: confection<1.0.0,>=0.0.1 in c:\\users\\vitor\\anaconda3\\lib\\site-packages (from thinc<8.2.0,>=8.1.8->spacy<3.7.0,>=3.6.0->pt-core-news-sm==3.6.0) (0.1.0)\n",
      "Requirement already satisfied: blis<0.8.0,>=0.7.8 in c:\\users\\vitor\\anaconda3\\lib\\site-packages (from thinc<8.2.0,>=8.1.8->spacy<3.7.0,>=3.6.0->pt-core-news-sm==3.6.0) (0.7.9)\n",
      "Requirement already satisfied: colorama in c:\\users\\vitor\\anaconda3\\lib\\site-packages (from tqdm<5.0.0,>=4.38.0->spacy<3.7.0,>=3.6.0->pt-core-news-sm==3.6.0) (0.4.6)\n",
      "Requirement already satisfied: click<9.0.0,>=7.1.1 in c:\\users\\vitor\\anaconda3\\lib\\site-packages (from typer<0.10.0,>=0.3.0->spacy<3.7.0,>=3.6.0->pt-core-news-sm==3.6.0) (8.0.4)\n",
      "Requirement already satisfied: MarkupSafe>=0.23 in c:\\users\\vitor\\anaconda3\\lib\\site-packages (from jinja2->spacy<3.7.0,>=3.6.0->pt-core-news-sm==3.6.0) (2.0.1)\n",
      "\u001b[38;5;2m[+] Download and installation successful\u001b[0m\n",
      "You can now load the package via spacy.load('pt_core_news_sm')\n"
     ]
    }
   ],
   "source": [
    "!python -m spacy download en_core_web_sm\n",
    "!python -m spacy download pt_core_news_sm"
   ]
  },
  {
   "cell_type": "code",
   "execution_count": 5,
   "id": "1a20499a",
   "metadata": {},
   "outputs": [
    {
     "data": {
      "text/html": [
       "<div>\n",
       "<style scoped>\n",
       "    .dataframe tbody tr th:only-of-type {\n",
       "        vertical-align: middle;\n",
       "    }\n",
       "\n",
       "    .dataframe tbody tr th {\n",
       "        vertical-align: top;\n",
       "    }\n",
       "\n",
       "    .dataframe thead th {\n",
       "        text-align: right;\n",
       "    }\n",
       "</style>\n",
       "<table border=\"1\" class=\"dataframe\">\n",
       "  <thead>\n",
       "    <tr style=\"text-align: right;\">\n",
       "      <th></th>\n",
       "      <th>ID</th>\n",
       "      <th>DATA</th>\n",
       "      <th>TITULO</th>\n",
       "      <th>EMPRESA</th>\n",
       "      <th>LOCAL</th>\n",
       "      <th>LINK</th>\n",
       "      <th>DESCRICAO</th>\n",
       "      <th>RELEVANCIA</th>\n",
       "    </tr>\n",
       "  </thead>\n",
       "  <tbody>\n",
       "    <tr>\n",
       "      <th>371</th>\n",
       "      <td>associate-manager-marketing-strategy-analytics...</td>\n",
       "      <td>2023-07-11</td>\n",
       "      <td>Associate Manager, Marketing Strategy &amp; Analyt...</td>\n",
       "      <td>Agoda</td>\n",
       "      <td>Brasília, DF</td>\n",
       "      <td>https://br.linkedin.com/jobs/view/associate-ma...</td>\n",
       "      <td>About Agoda\\n\\nAgoda is an online travel booki...</td>\n",
       "      <td>0</td>\n",
       "    </tr>\n",
       "    <tr>\n",
       "      <th>201</th>\n",
       "      <td>gestor-de-tr%C3%A1fego-at-v4-company-3648926195</td>\n",
       "      <td>2023-07-11</td>\n",
       "      <td>Gestor de Tráfego</td>\n",
       "      <td>V4 Company</td>\n",
       "      <td>Fortaleza, CE</td>\n",
       "      <td>https://br.linkedin.com/jobs/view/gestor-de-tr...</td>\n",
       "      <td>Gestor de tráfego\\n\\nVOCÊ É GESTOR(A) DE TRÁFE...</td>\n",
       "      <td>0</td>\n",
       "    </tr>\n",
       "    <tr>\n",
       "      <th>248</th>\n",
       "      <td>analista-de-com%C3%A9rcio-exterior-sr-at-yello...</td>\n",
       "      <td>2023-07-11</td>\n",
       "      <td>Analista de Comércio Exterior Sr.</td>\n",
       "      <td>yellow.rec</td>\n",
       "      <td>Belo Horizonte, MG</td>\n",
       "      <td>https://br.linkedin.com/jobs/view/analista-de-...</td>\n",
       "      <td>Nível: Sênior\\n\\nCursos de: .\\n\\nEscolaridade:...</td>\n",
       "      <td>0</td>\n",
       "    </tr>\n",
       "    <tr>\n",
       "      <th>84</th>\n",
       "      <td>chief-product-officer-gt-school-remote-%24800-...</td>\n",
       "      <td>2023-07-11</td>\n",
       "      <td>Chief Product Officer, gt.school (Remote) - $8...</td>\n",
       "      <td>Crossover</td>\n",
       "      <td>Fortaleza, CE</td>\n",
       "      <td>https://br.linkedin.com/jobs/view/chief-produc...</td>\n",
       "      <td>Crossover is the world's #1 source of full-tim...</td>\n",
       "      <td>0</td>\n",
       "    </tr>\n",
       "    <tr>\n",
       "      <th>370</th>\n",
       "      <td>manager-search-engine-optimization-seo-%E2%80%...</td>\n",
       "      <td>2023-07-11</td>\n",
       "      <td>Manager, Search Engine Optimization (SEO) – Ba...</td>\n",
       "      <td>Agoda</td>\n",
       "      <td>Belém e Região</td>\n",
       "      <td>https://br.linkedin.com/jobs/view/manager-sear...</td>\n",
       "      <td>About Agoda\\n\\nAgoda is an online travel booki...</td>\n",
       "      <td>0</td>\n",
       "    </tr>\n",
       "  </tbody>\n",
       "</table>\n",
       "</div>"
      ],
      "text/plain": [
       "                                                    ID        DATA  \\\n",
       "371  associate-manager-marketing-strategy-analytics...  2023-07-11   \n",
       "201    gestor-de-tr%C3%A1fego-at-v4-company-3648926195  2023-07-11   \n",
       "248  analista-de-com%C3%A9rcio-exterior-sr-at-yello...  2023-07-11   \n",
       "84   chief-product-officer-gt-school-remote-%24800-...  2023-07-11   \n",
       "370  manager-search-engine-optimization-seo-%E2%80%...  2023-07-11   \n",
       "\n",
       "                                                TITULO     EMPRESA  \\\n",
       "371  Associate Manager, Marketing Strategy & Analyt...       Agoda   \n",
       "201                                  Gestor de Tráfego  V4 Company   \n",
       "248                  Analista de Comércio Exterior Sr.  yellow.rec   \n",
       "84   Chief Product Officer, gt.school (Remote) - $8...   Crossover   \n",
       "370  Manager, Search Engine Optimization (SEO) – Ba...       Agoda   \n",
       "\n",
       "                  LOCAL                                               LINK  \\\n",
       "371        Brasília, DF  https://br.linkedin.com/jobs/view/associate-ma...   \n",
       "201       Fortaleza, CE  https://br.linkedin.com/jobs/view/gestor-de-tr...   \n",
       "248  Belo Horizonte, MG  https://br.linkedin.com/jobs/view/analista-de-...   \n",
       "84        Fortaleza, CE  https://br.linkedin.com/jobs/view/chief-produc...   \n",
       "370      Belém e Região  https://br.linkedin.com/jobs/view/manager-sear...   \n",
       "\n",
       "                                             DESCRICAO  RELEVANCIA  \n",
       "371  About Agoda\\n\\nAgoda is an online travel booki...           0  \n",
       "201  Gestor de tráfego\\n\\nVOCÊ É GESTOR(A) DE TRÁFE...           0  \n",
       "248  Nível: Sênior\\n\\nCursos de: .\\n\\nEscolaridade:...           0  \n",
       "84   Crossover is the world's #1 source of full-tim...           0  \n",
       "370  About Agoda\\n\\nAgoda is an online travel booki...           0  "
      ]
     },
     "execution_count": 5,
     "metadata": {},
     "output_type": "execute_result"
    }
   ],
   "source": [
    "#Importando os dados\n",
    "data = pd.read_csv(\"dados_classificados.csv\")\n",
    "data.sample(5)"
   ]
  },
  {
   "cell_type": "markdown",
   "id": "ea3ed188",
   "metadata": {},
   "source": [
    "# EDA"
   ]
  },
  {
   "cell_type": "markdown",
   "id": "0c2e49ee",
   "metadata": {},
   "source": [
    "Vamos agora verificar quais são as maiores ocorrências na coluna TITULO"
   ]
  },
  {
   "cell_type": "code",
   "execution_count": 6,
   "id": "dd9eb18f",
   "metadata": {
    "scrolled": true
   },
   "outputs": [
    {
     "name": "stdout",
     "output_type": "stream",
     "text": [
      "                                               Título  Ocorrência\n",
      "0   Chief Product and Technology Officer, gt.schoo...          12\n",
      "1   Chief Product Officer, gt.school (Remote) - $8...          12\n",
      "2   Manager, Search Engine Optimization (SEO) – Ba...          11\n",
      "3                         Remote Ad Optimizer - LATAM          11\n",
      "4   Part-Time Personalized Internet Ads Assessor -...          11\n",
      "5   Manager, Marketing Strategy & Analytics (Bangk...          11\n",
      "6   Analytical roles – Analyst/ Senior Analyst/ As...          11\n",
      "7   Senior Analyst (Supply Analytics team, Bangkok...          11\n",
      "8   Associate Manager, Marketing Strategy & Analyt...          11\n",
      "9   Senior Manager – Marketing Strategies and Anal...          11\n",
      "10  Chief Technology Officer, gt.school (Remote) -...           9\n",
      "11  Part-Time Personalized Internet Ads Assessor -...           8\n",
      "12                 Ubuntu Quality Engineering Manager           7\n",
      "13                          Cientista de Dados Sênior           6\n",
      "14                               Cloud Data Architect           5\n",
      "15                                       ML Architect           5\n",
      "16  Senior Director of Product Management, gt.scho...           4\n"
     ]
    }
   ],
   "source": [
    "# Contar a ocorrência de cada título\n",
    "title_occurrence = data['TITULO'].value_counts()\n",
    "\n",
    "# Filtrar os títulos que aparecem mais de 3 vezes\n",
    "filtered_titles = title_occurrence[title_occurrence > 3]\n",
    "\n",
    "# Criar um DataFrame com os títulos e suas ocorrências\n",
    "table_duplicates = pd.DataFrame({'Título': filtered_titles.index, 'Ocorrência': filtered_titles.values})\n",
    "\n",
    "# Exibir a tabela na tela\n",
    "print(table_duplicates)"
   ]
  },
  {
   "cell_type": "markdown",
   "id": "b68b1dfd",
   "metadata": {},
   "source": [
    "É notável que apesar de que as linhas não são duplicadas, varias posições são duplicadas, porém anunciadas em cidades diferentes. No tratamento de variáveis vamos removê-las, e manter apenas uma ocorrência."
   ]
  },
  {
   "cell_type": "markdown",
   "id": "b1f9b0d8",
   "metadata": {},
   "source": [
    "## Feature Engineering"
   ]
  },
  {
   "cell_type": "code",
   "execution_count": 7,
   "id": "3198384f",
   "metadata": {},
   "outputs": [
    {
     "data": {
      "image/png": "[encoded data removed]",
      "text/plain": [
       "<Figure size 640x480 with 1 Axes>"
      ]
     },
     "metadata": {},
     "output_type": "display_data"
    }
   ],
   "source": [
    "# Contar a frequência de cada valor na coluna \"RELEVANCIA\"\n",
    "relevancia_counts = data['RELEVANCIA'].value_counts()\n",
    "\n",
    "# Criar o gráfico de barras\n",
    "plt.bar(relevancia_counts.index, relevancia_counts.values)\n",
    "\n",
    "# Adicionar rótulos e título ao gráfico\n",
    "plt.xlabel('Relevância')\n",
    "plt.ylabel('Frequência')\n",
    "plt.title('Frequência de Relevância')\n",
    "\n",
    "# Exibir o gráfico\n",
    "plt.show()"
   ]
  },
  {
   "cell_type": "markdown",
   "id": "497030d4",
   "metadata": {},
   "source": [
    "Os dados estão muito desbalanceados, como o volume de dados não é muito grande, vamos fazer algumas adaptações. Primeiro, vamos juntar todos os valores 2 com 1. Perderemos algumas informações, mas será valioso para nosso processo de treinamento do modelo"
   ]
  },
  {
   "cell_type": "code",
   "execution_count": 8,
   "id": "2e1c1c95",
   "metadata": {},
   "outputs": [],
   "source": [
    "# Substituir os valores iguais a 2 por 1 na coluna \"RELEVANCIA\"\n",
    "data['RELEVANCIA'] = data['RELEVANCIA'].replace(2, 1)"
   ]
  },
  {
   "cell_type": "markdown",
   "id": "19b25c6b",
   "metadata": {},
   "source": [
    "Assim:"
   ]
  },
  {
   "cell_type": "code",
   "execution_count": 9,
   "id": "511a391d",
   "metadata": {},
   "outputs": [
    {
     "data": {
      "image/png": "[encoded data removed]",
      "text/plain": [
       "<Figure size 640x480 with 1 Axes>"
      ]
     },
     "metadata": {},
     "output_type": "display_data"
    }
   ],
   "source": [
    "# Contar a frequência de cada valor na coluna \"RELEVANCIA\"\n",
    "relevancia_counts = data['RELEVANCIA'].value_counts()\n",
    "\n",
    "# Criar o gráfico de barras\n",
    "plt.bar(relevancia_counts.index, relevancia_counts.values)\n",
    "\n",
    "# Adicionar rótulos e título ao gráfico\n",
    "plt.xlabel('Relevância')\n",
    "plt.ylabel('Frequência')\n",
    "plt.title('Frequência de Relevância')\n",
    "\n",
    "# Exibir o gráfico\n",
    "plt.show()"
   ]
  },
  {
   "cell_type": "markdown",
   "id": "adde1665",
   "metadata": {},
   "source": [
    "Os dados ainda estão desbalanceados, mas já é melhor do que antes. Agora vamos dividir os dados em treino e teste para continuar o feature engineering."
   ]
  },
  {
   "cell_type": "code",
   "execution_count": 10,
   "id": "4eac494a",
   "metadata": {},
   "outputs": [
    {
     "name": "stdout",
     "output_type": "stream",
     "text": [
      "Tamanho do conjunto de treinamento: 328\n",
      "Tamanho do conjunto de teste: 83\n"
     ]
    }
   ],
   "source": [
    "# Dividir os dados em atributos (X) e rótulos (y)\n",
    "X = data.drop('RELEVANCIA', axis=1)  # Supondo que a coluna \"RELEVANCIA\" seja o rótulo\n",
    "y = data['RELEVANCIA']\n",
    "\n",
    "# Dividir os dados em conjunto de treinamento e teste\n",
    "X_train, X_test, y_train, y_test = train_test_split(X, y, test_size=0.2, random_state=42)\n",
    "\n",
    "# Exibir os tamanhos dos conjuntos de treinamento e teste\n",
    "print(\"Tamanho do conjunto de treinamento:\", len(X_train))\n",
    "print(\"Tamanho do conjunto de teste:\", len(X_test))"
   ]
  },
  {
   "cell_type": "code",
   "execution_count": 11,
   "id": "92f7e9ce",
   "metadata": {},
   "outputs": [
    {
     "name": "stdout",
     "output_type": "stream",
     "text": [
      "['Chief Product and Technology Officer, gt.school (Remote) - $800,000/year USD', 'Chief Product Officer, gt.school (Remote) - $800,000/year USD', 'Manager, Search Engine Optimization (SEO) – Bangkok Based, Relocation Provided', 'Remote Ad Optimizer - LATAM', 'Part-Time Personalized Internet Ads Assessor - German Speakers in Brazil', 'Manager, Marketing Strategy & Analytics (Bangkok-based, relocation provided)', 'Analytical roles – Analyst/ Senior Analyst/ Associate Manager (Bangkok Based, Relocation Provided)', 'Senior Analyst (Supply Analytics team, Bangkok-based, Relocation provided)', 'Associate Manager, Marketing Strategy & Analytics (Bangkok-based, relocation provided)', 'Senior Manager – Marketing Strategies and Analytics (Bangkok-based, relocation provided)', 'Chief Technology Officer, gt.school (Remote) - $800,000/year USD', 'Part-Time Personalized Internet Ads Assessor - Dutch Speakers in Brazil', 'Ubuntu Quality Engineering Manager']\n"
     ]
    }
   ],
   "source": [
    "# Filtrar os títulos que possuem ocorrência maior ou igual a 7\n",
    "titles_to_remove = table_duplicates[table_duplicates['Ocorrência'] >= 7]['Título'].tolist()\n",
    "\n",
    "# Exibir a lista de títulos\n",
    "print(titles_to_remove)\n"
   ]
  },
  {
   "cell_type": "code",
   "execution_count": 12,
   "id": "ef2dc7ab",
   "metadata": {
    "scrolled": true
   },
   "outputs": [
    {
     "name": "stdout",
     "output_type": "stream",
     "text": [
      "Tamanho do conjunto de treinamento após a remoção: 232\n",
      "Tamanho do conjunto de teste após a remoção: 67\n"
     ]
    }
   ],
   "source": [
    "# Juntar X_train e y_train em um único DataFrame\n",
    "train_data = pd.concat([X_train, y_train], axis=1)\n",
    "\n",
    "# Juntar X_test e y_test em um único DataFrame\n",
    "test_data = pd.concat([X_test, y_test], axis=1)\n",
    "\n",
    "# Remover as linhas correspondentes nos conjuntos de treinamento, mas mantendo a primeira ocorrência:\n",
    "train_data = train_data[~(train_data['TITULO'].isin(titles_to_remove) & train_data.duplicated(subset='TITULO', keep='first'))]\n",
    "\n",
    "# Remover as linhas correspondentes nos conjuntos de teste, mas mantendo a primeira ocorrência:\n",
    "test_data = test_data[~(test_data['TITULO'].isin(titles_to_remove) & test_data.duplicated(subset='TITULO', keep='first'))]\n",
    "\n",
    "# Separar novamente X_train, y_train, X_test e y_test\n",
    "X_train = train_data.drop('RELEVANCIA', axis=1)\n",
    "y_train = train_data['RELEVANCIA']\n",
    "X_test = test_data.drop('RELEVANCIA', axis=1)\n",
    "y_test = test_data['RELEVANCIA']\n",
    "\n",
    "# Exibir os tamanhos dos conjuntos de treinamento e teste após a remoção\n",
    "print(\"Tamanho do conjunto de treinamento após a remoção:\", len(X_train))\n",
    "print(\"Tamanho do conjunto de teste após a remoção:\", len(X_test))\n"
   ]
  },
  {
   "cell_type": "markdown",
   "id": "2e1a8994",
   "metadata": {},
   "source": [
    "## Tratamento textual"
   ]
  },
  {
   "cell_type": "markdown",
   "id": "72490ee1",
   "metadata": {},
   "source": [
    "Iremos juntar o texto do titulo com a descrição, em uma nova coluna \"TEXT\""
   ]
  },
  {
   "cell_type": "code",
   "execution_count": 13,
   "id": "a7605495",
   "metadata": {},
   "outputs": [
    {
     "name": "stdout",
     "output_type": "stream",
     "text": [
      "Conjunto de treinamento:\n",
      "                                                    ID        DATA  \\\n",
      "167  online-growth-vice-president-at-frubana-361057...  2023-07-11   \n",
      "379  senior-manager-%E2%80%93-marketing-strategies-...  2023-07-11   \n",
      "140  analista-de-business-intelligence-sr-log%C3%AD...  2023-07-11   \n",
      "124  chief-product-officer-gt-school-remote-%24800-...  2023-07-11   \n",
      "3    pessoa-engenheira-de-dados-junior-at-clickbus-...  2023-07-11   \n",
      "\n",
      "                                                TITULO    EMPRESA  \\\n",
      "167                       Online Growth Vice President    Frubana   \n",
      "379  Senior Manager – Marketing Strategies and Anal...      Agoda   \n",
      "140   Analista de Business Intelligence SR - Logística  Grupo Nós   \n",
      "124  Chief Product Officer, gt.school (Remote) - $8...  Crossover   \n",
      "3                    PESSOA ENGENHEIRA DE DADOS JUNIOR   ClickBus   \n",
      "\n",
      "              LOCAL                                               LINK  \\\n",
      "167   São Paulo, SP  https://br.linkedin.com/jobs/view/online-growt...   \n",
      "379  Belém e Região  https://br.linkedin.com/jobs/view/senior-manag...   \n",
      "140     Cajamar, SP  https://br.linkedin.com/jobs/view/analista-de-...   \n",
      "124      Manaus, AM  https://br.linkedin.com/jobs/view/chief-produc...   \n",
      "3            Brasil  https://br.linkedin.com/jobs/view/pessoa-engen...   \n",
      "\n",
      "                                             DESCRICAO  \\\n",
      "167  ¿Te has imaginado unirte a una empresa que tie...   \n",
      "379  About Agoda\\n\\nAgoda is an online travel booki...   \n",
      "140  Faz parte dos atributos da nossa cultura a val...   \n",
      "124  Crossover is the world's #1 source of full-tim...   \n",
      "3    O que nos move diariamente?\\n\\nTodos os dias v...   \n",
      "\n",
      "                                                  TEXT  \n",
      "167  São Paulo, SP Frubana Online Growth Vice Presi...  \n",
      "379  Belém e Região Agoda Senior Manager – Marketin...  \n",
      "140  Cajamar, SP Grupo Nós Analista de Business Int...  \n",
      "124  Manaus, AM Crossover Chief Product Officer, gt...  \n",
      "3    Brasil ClickBus PESSOA ENGENHEIRA DE DADOS JUN...  \n",
      "\n",
      "Conjunto de teste:\n",
      "                                                    ID        DATA  \\\n",
      "173  analista-bi-sr-vaga-afirmativa-para-mulheres-a...  2023-07-11   \n",
      "33   senior-applied-data-scientist-at-dunnhumby-363...  2023-07-11   \n",
      "70                arquiteto-dados-at-hypera-3598404655  2023-07-11   \n",
      "362  associate-manager-marketing-strategy-analytics...  2023-07-11   \n",
      "82   gerente-de-cr%C3%A9dito-s%C3%AAnior-modelagem-...  2023-07-11   \n",
      "\n",
      "                                                TITULO    EMPRESA  \\\n",
      "173     Analista BI Sr - Vaga afirmativa para mulheres     Núclea   \n",
      "33                       Senior Applied Data Scientist  dunnhumby   \n",
      "70                                     ARQUITETO DADOS     Hypera   \n",
      "362  Associate Manager, Marketing Strategy & Analyt...      Agoda   \n",
      "82               Gerente de Crédito Sênior - Modelagem     PicPay   \n",
      "\n",
      "                 LOCAL                                               LINK  \\\n",
      "173      São Paulo, SP  https://br.linkedin.com/jobs/view/analista-bi-...   \n",
      "33   São Paulo, Brasil  https://br.linkedin.com/jobs/view/senior-appli...   \n",
      "70       São Paulo, SP  https://br.linkedin.com/jobs/view/arquiteto-da...   \n",
      "362      Fortaleza, CE  https://br.linkedin.com/jobs/view/associate-ma...   \n",
      "82       São Paulo, SP  https://br.linkedin.com/jobs/view/gerente-de-c...   \n",
      "\n",
      "                                             DESCRICAO  \\\n",
      "173  Vem pra NUCLEA\\n\\nJá imaginou se os meios de p...   \n",
      "33   We’re looking for a Senior Applied Data Scient...   \n",
      "70   Buscamos talentos que possam transformar possi...   \n",
      "362  About Agoda\\n\\nAgoda is an online travel booki...   \n",
      "82   Sobre o Picpay:\\n\\nCom mais de dez anos de his...   \n",
      "\n",
      "                                                  TEXT  \n",
      "173  São Paulo, SP Núclea Analista BI Sr - Vaga afi...  \n",
      "33   São Paulo, Brasil dunnhumby Senior Applied Dat...  \n",
      "70   São Paulo, SP Hypera ARQUITETO DADOS Buscamos ...  \n",
      "362  Fortaleza, CE Agoda Associate Manager, Marketi...  \n",
      "82   São Paulo, SP PicPay Gerente de Crédito Sênior...  \n"
     ]
    }
   ],
   "source": [
    "# Juntar as colunas \"DESCRICAO\", \"TITULO\", \"LOCAL\" e \"EMPRESA\" em uma nova coluna \"TEXT\" no conjunto de treinamento\n",
    "X_train['TEXT'] = X_train['LOCAL'] + ' ' + X_train['EMPRESA'] + ' ' + X_train['TITULO'] + ' ' + X_train['DESCRICAO'] \n",
    "\n",
    "# Juntar as colunas \"DESCRICAO\", \"TITULO\", \"LOCAL\" e \"EMPRESA\" em uma nova coluna \"TEXT\" no conjunto de teste\n",
    "X_test['TEXT'] = X_test['LOCAL'] + ' ' + X_test['EMPRESA'] + ' ' + X_test['TITULO'] + ' ' + X_test['DESCRICAO']\n",
    "\n",
    "# Exibir as primeiras linhas dos conjuntos de treinamento e teste com a nova coluna \"TEXT\"\n",
    "print(\"Conjunto de treinamento:\")\n",
    "print(X_train.head())\n",
    "print()\n",
    "print(\"Conjunto de teste:\")\n",
    "print(X_test.head())\n"
   ]
  },
  {
   "cell_type": "code",
   "execution_count": 14,
   "id": "0feb63fd",
   "metadata": {},
   "outputs": [
    {
     "name": "stdout",
     "output_type": "stream",
     "text": [
      "Conjunto de treinamento:\n",
      "                                                  TEXT\n",
      "167  São Paulo, SP Frubana Online Growth Vice Presi...\n",
      "379  Belém e Região Agoda Senior Manager – Marketin...\n",
      "140  Cajamar, SP Grupo Nós Analista de Business Int...\n",
      "124  Manaus, AM Crossover Chief Product Officer, gt...\n",
      "3    Brasil ClickBus PESSOA ENGENHEIRA DE DADOS JUN...\n",
      "\n",
      "Conjunto de teste:\n",
      "                                                  TEXT\n",
      "173  São Paulo, SP Núclea Analista BI Sr - Vaga afi...\n",
      "33   São Paulo, Brasil dunnhumby Senior Applied Dat...\n",
      "70   São Paulo, SP Hypera ARQUITETO DADOS Buscamos ...\n",
      "362  Fortaleza, CE Agoda Associate Manager, Marketi...\n",
      "82   São Paulo, SP PicPay Gerente de Crédito Sênior...\n"
     ]
    }
   ],
   "source": [
    "# Manter apenas a coluna \"TEXT\" no conjunto de treinamento\n",
    "X_train = X_train[['TEXT']]\n",
    "\n",
    "# Manter apenas a coluna \"TEXT\" no conjunto de teste\n",
    "X_test = X_test[['TEXT']]\n",
    "\n",
    "# Exibir as primeiras linhas dos conjuntos de treinamento e teste\n",
    "print(\"Conjunto de treinamento:\")\n",
    "print(X_train.head())\n",
    "print()\n",
    "print(\"Conjunto de teste:\")\n",
    "print(X_test.head())\n"
   ]
  },
  {
   "cell_type": "markdown",
   "id": "48bf39b3",
   "metadata": {},
   "source": [
    "### Removendo stopwords e pontuações"
   ]
  },
  {
   "cell_type": "code",
   "execution_count": 15,
   "id": "be037ef5",
   "metadata": {},
   "outputs": [
    {
     "name": "stdout",
     "output_type": "stream",
     "text": [
      "Conjunto de treinamento:\n",
      "                                                  TEXT\n",
      "167  paulo sp frubana online growth vice president ...\n",
      "379  belém região agoda senior manager – marketing ...\n",
      "140  cajamar sp analista business intelligence sr l...\n",
      "124  manaus crossover chief product officer gt.scho...\n",
      "3    brasil clickbus pessoa engenheira dados junior...\n",
      "\n",
      "Conjunto de teste:\n",
      "                                                  TEXT\n",
      "173  paulo sp núclea analista bi sr vaga afirmativa...\n",
      "33   paulo brasil dunnhumby senior applied data sci...\n",
      "70   paulo sp hypera arquiteto dados buscamos talen...\n",
      "362  fortaleza ce agoda associate manager marketing...\n",
      "82   paulo sp picpay gerente crédito sênior modelag...\n"
     ]
    }
   ],
   "source": [
    "import spacy\n",
    "from spacy.lang.en.stop_words import STOP_WORDS as en_stopwords\n",
    "from spacy.lang.pt.stop_words import STOP_WORDS as pt_stopwords\n",
    "from string import punctuation\n",
    "\n",
    "# Carregar os modelos linguísticos\n",
    "nlp_en = spacy.load('en_core_web_sm')\n",
    "nlp_pt = spacy.load('pt_core_news_sm')\n",
    "\n",
    "# Função para remover stopwords e pontuações de um texto\n",
    "def remove_stopwords_punctuations(text):\n",
    "    doc = nlp_en(text)\n",
    "    tokens = [token.text.lower() for token in doc if token.text.lower() not in en_stopwords and token.text.lower() not in pt_stopwords and token.text not in punctuation]\n",
    "    return ' '.join(tokens)\n",
    "\n",
    "# Remover stopwords e pontuações do conjunto de treinamento\n",
    "X_train['TEXT'] = X_train['TEXT'].apply(remove_stopwords_punctuations)\n",
    "\n",
    "# Remover stopwords e pontuações do conjunto de teste\n",
    "X_test['TEXT'] = X_test['TEXT'].apply(remove_stopwords_punctuations)\n",
    "\n",
    "# Exibir as primeiras linhas dos conjuntos de treinamento e teste após a remoção\n",
    "print(\"Conjunto de treinamento:\")\n",
    "print(X_train.head())\n",
    "print()\n",
    "print(\"Conjunto de teste:\")\n",
    "print(X_test.head())\n"
   ]
  },
  {
   "cell_type": "code",
   "execution_count": 16,
   "id": "53164b46",
   "metadata": {},
   "outputs": [
    {
     "name": "stdout",
     "output_type": "stream",
     "text": [
      "              precision    recall  f1-score   support\n",
      "\n",
      "           0       0.68      0.95      0.79        42\n",
      "           1       0.75      0.24      0.36        25\n",
      "\n",
      "    accuracy                           0.69        67\n",
      "   macro avg       0.71      0.60      0.58        67\n",
      "weighted avg       0.70      0.69      0.63        67\n",
      "\n"
     ]
    }
   ],
   "source": [
    "from sklearn.ensemble import RandomForestClassifier\n",
    "from sklearn.feature_extraction.text import TfidfVectorizer\n",
    "from sklearn.metrics import classification_report\n",
    "\n",
    "# Criar um vetorizador TF-IDF\n",
    "vectorizer = TfidfVectorizer()\n",
    "\n",
    "# Transformar os dados de texto em vetores TF-IDF\n",
    "X_train_tfidf = vectorizer.fit_transform(X_train['TEXT'])\n",
    "X_test_tfidf = vectorizer.transform(X_test['TEXT'])\n",
    "\n",
    "\n",
    "# Save the fitted vectorizer for later use\n",
    "with open('tfidf_vectorizer.pkl', 'wb') as file:\n",
    "    pickle.dump(vectorizer, file)\n",
    "    \n",
    "\n",
    "# Inicializar o classificador Random Forest\n",
    "clf = RandomForestClassifier(random_state=42)\n",
    "\n",
    "# Treinar o classificador usando o conjunto de treinamento vetorizado\n",
    "clf.fit(X_train_tfidf, y_train)\n",
    "\n",
    "# Fazer previsões no conjunto de teste vetorizado\n",
    "y_pred = clf.predict(X_test_tfidf)\n",
    "\n",
    "# Avaliar o desempenho do modelo\n",
    "report = classification_report(y_test, y_pred)\n",
    "print(report)\n"
   ]
  },
  {
   "cell_type": "code",
   "execution_count": 17,
   "id": "1bfa9498",
   "metadata": {},
   "outputs": [
    {
     "name": "stdout",
     "output_type": "stream",
     "text": [
      "              precision    recall  f1-score   support\n",
      "\n",
      "           0       0.81      0.93      0.87        42\n",
      "           1       0.84      0.64      0.73        25\n",
      "\n",
      "    accuracy                           0.82        67\n",
      "   macro avg       0.83      0.78      0.80        67\n",
      "weighted avg       0.82      0.82      0.81        67\n",
      "\n"
     ]
    }
   ],
   "source": [
    "import xgboost as xgb\n",
    "from sklearn.metrics import classification_report\n",
    "\n",
    "# Convert the training and test data into a DMatrix for use with XGBoost\n",
    "dtrain = xgb.DMatrix(X_train_tfidf, label=y_train)\n",
    "dtest = xgb.DMatrix(X_test_tfidf, label=y_test)\n",
    "\n",
    "# Define the parameters for the XGBoost model\n",
    "params = {\n",
    "    'objective': 'binary:logistic',\n",
    "    'eval_metric': 'error',\n",
    "    'seed': 42\n",
    "}\n",
    "\n",
    "# Train the XGBoost model\n",
    "model = xgb.train(params, dtrain)\n",
    "\n",
    "# Save the trained model for later use\n",
    "with open('xgboost_model.pkl', 'wb') as file:\n",
    "    pickle.dump(model, file)\n",
    "\n",
    "# Make predictions on the test set\n",
    "y_pred = model.predict(dtest)\n",
    "y_pred = (y_pred > 0.5).astype(int)\n",
    "\n",
    "# Evaluate the model's performance\n",
    "report = classification_report(y_test, y_pred)\n",
    "print(report)\n"
   ]
  },
  {
   "cell_type": "markdown",
   "id": "a18376b0",
   "metadata": {},
   "source": [
    "##### O modelo com XGBoost possui boas métricas, e será utilizado como modelo final."
   ]
  },
  {
   "cell_type": "code",
   "execution_count": 18,
   "id": "b1f0d32a",
   "metadata": {},
   "outputs": [],
   "source": [
    "import pickle\n",
    "\n",
    "# Salvar o modelo em um arquivo pickle\n",
    "with open('xgboost_model.pkl', 'wb') as file:\n",
    "    pickle.dump(model, file)"
   ]
  },
  {
   "cell_type": "markdown",
   "id": "f5550a33",
   "metadata": {},
   "source": [
    "### Criando pipeline focado em produção\n"
   ]
  },
  {
   "cell_type": "code",
   "execution_count": 3,
   "id": "2ead9a1d",
   "metadata": {},
   "outputs": [
    {
     "name": "stderr",
     "output_type": "stream",
     "text": [
      "[nltk_data] Downloading package stopwords to\n",
      "[nltk_data]     C:\\Users\\vitor\\AppData\\Roaming\\nltk_data...\n",
      "[nltk_data]   Package stopwords is already up-to-date!\n"
     ]
    }
   ],
   "source": [
    "nltk.download('stopwords')\n",
    "\n",
    "# Define a function to remove stopwords and punctuation\n",
    "def remove_stopwords_punctuation(text):\n",
    "    stop_words = set(stopwords.words('portuguese') + stopwords.words('english'))\n",
    "    tokens = word_tokenize(text)\n",
    "    filtered_tokens = [token for token in tokens if token.lower() not in stop_words and token not in string.punctuation]\n",
    "    return ' '.join(filtered_tokens)\n",
    "\n",
    "class XGBoostClassifier(BaseEstimator, TransformerMixin):\n",
    "    def __init__(self, model_path):\n",
    "        self.model_path = model_path\n",
    "        with open(self.model_path, 'rb') as file:\n",
    "            self.model = pickle.load(file)\n",
    "    def fit(self, X, y=None):\n",
    "        return self\n",
    "    def predict(self, X):\n",
    "        dmatrix_data = xgb.DMatrix(X)\n",
    "        probabilities = self.model.predict(dmatrix_data)\n",
    "        predictions = [1 if prob > 0.5 else 0 for prob in probabilities]\n",
    "        return predictions\n",
    "\n",
    "# Load the TfidfVectorizer from the file\n",
    "with open('tfidf_vectorizer.pkl', 'rb') as file:\n",
    "    vectorizer = pickle.load(file)\n",
    "\n",
    "# Create the pipeline\n",
    "pipeline = Pipeline([\n",
    "    ('combine_columns', FunctionTransformer(lambda x: x['DESCRICAO'] + ' ' + x['TITULO'] + ' ' + x['LOCAL'] + ' ' + x['EMPRESA'], validate=False)),\n",
    "    ('add_text_column', FunctionTransformer(lambda x: pd.DataFrame({'TEXT': x}), validate=False)),\n",
    "    ('remove_punctuation', FunctionTransformer(lambda x: x['TEXT'].apply(remove_stopwords_punctuation), validate=False)),\n",
    "    ('drop_columns', FunctionTransformer(lambda x: x.drop(columns=['DESCRICAO', 'TITULO', 'LOCAL', 'EMPRESA']), validate=False)),\n",
    "    ('tfidf_vectorizer', vectorizer),\n",
    "    ('prediction', XGBoostClassifier('xgboost_model.pkl'))\n",
    "])"
   ]
  },
  {
   "cell_type": "markdown",
   "id": "09a0f699",
   "metadata": {},
   "source": [
    "### Criando dados sintéticos para testar nosso pipeline:"
   ]
  },
  {
   "cell_type": "markdown",
   "id": "840af41e",
   "metadata": {},
   "source": [
    "Pedi o ChatGPT para gerar novos dados sintéticos, de 10 empregos, onde 5 eu classificaria como \"Relevante\", e mais 5 que eu consideraria irrelevante:"
   ]
  },
  {
   "attachments": {
    "image-2.png": {
     "image/png": "[encoded data removed]"
    },
    "image.png": {
     "image/png": "[encoded data removed]"
    }
   },
   "cell_type": "markdown",
   "id": "0c9f57c6",
   "metadata": {},
   "source": [
    "![image.png](attachment:image.png)\n",
    "\n",
    "![image-2.png](attachment:image-2.png)"
   ]
  },
  {
   "cell_type": "code",
   "execution_count": 20,
   "id": "bbc60a2c",
   "metadata": {},
   "outputs": [],
   "source": [
    "new_data = pd.DataFrame({\n",
    "    'DESCRICAO': [\n",
    "        \"O candidato selecionado irá colaborar com nossa equipe de análise para coletar, analisar e interpretar resultados complexos de dados. As responsabilidades incluem limpeza de dados, criação de algoritmos, teste de modelos e apresentação de resultados de uma maneira clara e visual.\",\n",
    "        \"Procuramos um cientista de dados com especialização em machine learning para ajudar a desenvolver soluções inovadoras para problemas complexos. O candidato irá projetar e implementar modelos de machine learning, bem como gerenciar o processamento e a análise de grandes conjuntos de dados.\",\n",
    "        \"Nossa empresa está em busca de um cientista de dados para liderar nossos esforços de análise de dados. O candidato deverá possuir uma forte compreensão dos modelos estatísticos e experiência com linguagens de programação como Python ou R. A capacidade de se comunicar efetivamente com as equipes de TI e gestão é crucial.\",\n",
    "        \"Esta posição exige um profissional com experiência em ciência de dados e habilidades em SQL e Python. O candidato será responsável pela criação de algoritmos de machine learning, mineração de dados e apresentação de insights de dados para ajudar na tomada de decisões estratégicas.\",\n",
    "        \"Estamos à procura de um cientista de dados talentoso para extrair, analisar e interpretar grandes quantidades de dados de várias fontes. O candidato deve ter uma forte compreensão das técnicas de análise de dados e uma aptidão para trabalhar com grandes conjuntos de dados.\",\n",
    "        \"Estamos procurando um fritador de pastel com experiência em preparação de alimentos. O candidato deve ser capaz de preparar a massa, recheio, e manter o local de trabalho limpo e higiênico.\",\n",
    "        \"Precisamos de um entregador de gás responsável e pontual para garantir a entrega segura e eficiente de nossos produtos aos clientes. Deve ser capaz de carregar peso, ter habilidades de atendimento ao cliente e possuir CNH válida.\",\n",
    "        \"Buscamos um profissional de manutenção de computadores para resolver problemas de hardware e software. Experiência com sistemas operacionais Windows e MacOS é necessária, assim como capacidade de solucionar problemas de rede.\",\n",
    "        \"Estamos contratando um plantador de batatas para nossa fazenda. O candidato ideal deve ter experiência em agricultura, ser capaz de operar maquinário agrícola e estar disposto a trabalhar ao ar livre em várias condições climáticas.\",\n",
    "        \"Procuramos um mecânico de automóveis com experiência em diagnóstico e reparo de uma ampla gama de problemas de veículos. Deve ser capaz de trabalhar com ferramentas de diagnóstico modernas e ter excelente atendimento ao cliente.\"\n",
    "    ],\n",
    "    'TITULO': [\n",
    "        'Cientista de Dados Júnior',\n",
    "        'Cientista de Dados com Especialização em Machine Learning',\n",
    "        'Cientista de Dados Sênior',\n",
    "        'Cientista de Dados Especializado em SQL e Python',\n",
    "        'Cientista de Dados para Extração e Análise de Dados',\n",
    "        'Fritador de Pastel',\n",
    "        'Entregador de Gás',\n",
    "        'Técnico de Manutenção de Computadores',\n",
    "        'Plantador de Batatas',\n",
    "        'Mecânico de Automóveis'\n",
    "    ],\n",
    "    'LOCAL': [\n",
    "        'São Paulo, SP',\n",
    "        'Rio de Janeiro, RJ',\n",
    "        'Belo Horizonte, MG',\n",
    "        'Porto Alegre, RS',\n",
    "        'Salvador, BA',\n",
    "        'Curitiba, PR',\n",
    "        'Recife, PE',\n",
    "        'Fortaleza, CE',\n",
    "        'Cuiabá, MT',\n",
    "        'Manaus, AM'\n",
    "    ],\n",
    "    'EMPRESA': [\n",
    "        'Meta',\n",
    "        'Hotmart',\n",
    "        'Artefact',\n",
    "        'Google',\n",
    "        'Vale',\n",
    "        'Pastelaria 1',\n",
    "        'Distribuidora de Gás 2',\n",
    "        'Assistência Técnica 3',\n",
    "        'Fazenda 4',\n",
    "        'Oficina Mecânica 5'\n",
    "    ]\n",
    "})\n"
   ]
  },
  {
   "cell_type": "code",
   "execution_count": 21,
   "id": "a773aab1",
   "metadata": {},
   "outputs": [
    {
     "data": {
      "text/html": [
       "<div>\n",
       "<style scoped>\n",
       "    .dataframe tbody tr th:only-of-type {\n",
       "        vertical-align: middle;\n",
       "    }\n",
       "\n",
       "    .dataframe tbody tr th {\n",
       "        vertical-align: top;\n",
       "    }\n",
       "\n",
       "    .dataframe thead th {\n",
       "        text-align: right;\n",
       "    }\n",
       "</style>\n",
       "<table border=\"1\" class=\"dataframe\">\n",
       "  <thead>\n",
       "    <tr style=\"text-align: right;\">\n",
       "      <th></th>\n",
       "      <th>DESCRICAO</th>\n",
       "      <th>TITULO</th>\n",
       "      <th>LOCAL</th>\n",
       "      <th>EMPRESA</th>\n",
       "    </tr>\n",
       "  </thead>\n",
       "  <tbody>\n",
       "    <tr>\n",
       "      <th>0</th>\n",
       "      <td>O candidato selecionado irá colaborar com noss...</td>\n",
       "      <td>Cientista de Dados Júnior</td>\n",
       "      <td>São Paulo, SP</td>\n",
       "      <td>Meta</td>\n",
       "    </tr>\n",
       "    <tr>\n",
       "      <th>1</th>\n",
       "      <td>Procuramos um cientista de dados com especiali...</td>\n",
       "      <td>Cientista de Dados com Especialização em Machi...</td>\n",
       "      <td>Rio de Janeiro, RJ</td>\n",
       "      <td>Hotmart</td>\n",
       "    </tr>\n",
       "    <tr>\n",
       "      <th>2</th>\n",
       "      <td>Nossa empresa está em busca de um cientista de...</td>\n",
       "      <td>Cientista de Dados Sênior</td>\n",
       "      <td>Belo Horizonte, MG</td>\n",
       "      <td>Artefact</td>\n",
       "    </tr>\n",
       "    <tr>\n",
       "      <th>3</th>\n",
       "      <td>Esta posição exige um profissional com experiê...</td>\n",
       "      <td>Cientista de Dados Especializado em SQL e Python</td>\n",
       "      <td>Porto Alegre, RS</td>\n",
       "      <td>Google</td>\n",
       "    </tr>\n",
       "    <tr>\n",
       "      <th>4</th>\n",
       "      <td>Estamos à procura de um cientista de dados tal...</td>\n",
       "      <td>Cientista de Dados para Extração e Análise de ...</td>\n",
       "      <td>Salvador, BA</td>\n",
       "      <td>Vale</td>\n",
       "    </tr>\n",
       "    <tr>\n",
       "      <th>5</th>\n",
       "      <td>Estamos procurando um fritador de pastel com e...</td>\n",
       "      <td>Fritador de Pastel</td>\n",
       "      <td>Curitiba, PR</td>\n",
       "      <td>Pastelaria 1</td>\n",
       "    </tr>\n",
       "    <tr>\n",
       "      <th>6</th>\n",
       "      <td>Precisamos de um entregador de gás responsável...</td>\n",
       "      <td>Entregador de Gás</td>\n",
       "      <td>Recife, PE</td>\n",
       "      <td>Distribuidora de Gás 2</td>\n",
       "    </tr>\n",
       "    <tr>\n",
       "      <th>7</th>\n",
       "      <td>Buscamos um profissional de manutenção de comp...</td>\n",
       "      <td>Técnico de Manutenção de Computadores</td>\n",
       "      <td>Fortaleza, CE</td>\n",
       "      <td>Assistência Técnica 3</td>\n",
       "    </tr>\n",
       "    <tr>\n",
       "      <th>8</th>\n",
       "      <td>Estamos contratando um plantador de batatas pa...</td>\n",
       "      <td>Plantador de Batatas</td>\n",
       "      <td>Cuiabá, MT</td>\n",
       "      <td>Fazenda 4</td>\n",
       "    </tr>\n",
       "    <tr>\n",
       "      <th>9</th>\n",
       "      <td>Procuramos um mecânico de automóveis com exper...</td>\n",
       "      <td>Mecânico de Automóveis</td>\n",
       "      <td>Manaus, AM</td>\n",
       "      <td>Oficina Mecânica 5</td>\n",
       "    </tr>\n",
       "  </tbody>\n",
       "</table>\n",
       "</div>"
      ],
      "text/plain": [
       "                                           DESCRICAO  \\\n",
       "0  O candidato selecionado irá colaborar com noss...   \n",
       "1  Procuramos um cientista de dados com especiali...   \n",
       "2  Nossa empresa está em busca de um cientista de...   \n",
       "3  Esta posição exige um profissional com experiê...   \n",
       "4  Estamos à procura de um cientista de dados tal...   \n",
       "5  Estamos procurando um fritador de pastel com e...   \n",
       "6  Precisamos de um entregador de gás responsável...   \n",
       "7  Buscamos um profissional de manutenção de comp...   \n",
       "8  Estamos contratando um plantador de batatas pa...   \n",
       "9  Procuramos um mecânico de automóveis com exper...   \n",
       "\n",
       "                                              TITULO               LOCAL  \\\n",
       "0                          Cientista de Dados Júnior       São Paulo, SP   \n",
       "1  Cientista de Dados com Especialização em Machi...  Rio de Janeiro, RJ   \n",
       "2                          Cientista de Dados Sênior  Belo Horizonte, MG   \n",
       "3   Cientista de Dados Especializado em SQL e Python    Porto Alegre, RS   \n",
       "4  Cientista de Dados para Extração e Análise de ...        Salvador, BA   \n",
       "5                                 Fritador de Pastel        Curitiba, PR   \n",
       "6                                  Entregador de Gás          Recife, PE   \n",
       "7              Técnico de Manutenção de Computadores       Fortaleza, CE   \n",
       "8                               Plantador de Batatas          Cuiabá, MT   \n",
       "9                             Mecânico de Automóveis          Manaus, AM   \n",
       "\n",
       "                  EMPRESA  \n",
       "0                    Meta  \n",
       "1                 Hotmart  \n",
       "2                Artefact  \n",
       "3                  Google  \n",
       "4                    Vale  \n",
       "5            Pastelaria 1  \n",
       "6  Distribuidora de Gás 2  \n",
       "7   Assistência Técnica 3  \n",
       "8               Fazenda 4  \n",
       "9      Oficina Mecânica 5  "
      ]
     },
     "execution_count": 21,
     "metadata": {},
     "output_type": "execute_result"
    }
   ],
   "source": [
    "new_data.head(10)"
   ]
  },
  {
   "cell_type": "markdown",
   "id": "2d8ea379",
   "metadata": {},
   "source": [
    "Os cinco primeiros devem ser classificados como 1, e os outro 5 como 0:"
   ]
  },
  {
   "cell_type": "code",
   "execution_count": 22,
   "id": "10a45a87",
   "metadata": {},
   "outputs": [
    {
     "name": "stdout",
     "output_type": "stream",
     "text": [
      "[0, 0, 0, 1, 0, 0, 0, 0, 0, 0]\n"
     ]
    }
   ],
   "source": [
    "# Exemplo de uso do pipeline para prever novos dados\n",
    "\n",
    "predictions = pipeline.predict(new_data)\n",
    "print(predictions)"
   ]
  },
  {
   "cell_type": "markdown",
   "id": "b89a49a8",
   "metadata": {},
   "source": [
    "##### Péssima perfomance. FIca a lição que dados sintéticos não costumam performar bem rs. Vamos tentar com novos dados coletados em newly_fetched_data.csv"
   ]
  },
  {
   "cell_type": "code",
   "execution_count": 4,
   "id": "c147705a",
   "metadata": {},
   "outputs": [
    {
     "name": "stdout",
     "output_type": "stream",
     "text": [
      "[0, 1, 0, 0, 1, 0, 0, 0, 0, 0, 1, 0, 0, 1, 1, 1, 0, 0, 0, 0, 0, 1, 0, 0, 0, 0, 1, 1, 1, 0, 0, 1, 0, 0, 0, 0, 0, 0, 0, 0, 0, 1, 0, 1, 1, 0, 1, 0, 1, 0, 1, 1, 0, 1, 0, 1, 0, 0, 0, 0, 0, 0, 0, 0, 0]\n"
     ]
    }
   ],
   "source": [
    "data_new = pd.read_csv(\"newly_fetched_data.csv\")\n",
    "\n",
    "predictions = pipeline.predict(data_new)\n",
    "print(predictions)"
   ]
  },
  {
   "cell_type": "code",
   "execution_count": 5,
   "id": "51a09548",
   "metadata": {},
   "outputs": [],
   "source": [
    "# Criar um novo DataFrame com as colunas de data_new e predictions\n",
    "df_combined = pd.concat([data_new, pd.DataFrame(predictions)], axis=1)"
   ]
  },
  {
   "cell_type": "code",
   "execution_count": 7,
   "id": "de00bf45",
   "metadata": {
    "scrolled": false
   },
   "outputs": [
    {
     "data": {
      "text/html": [
       "<div>\n",
       "<style scoped>\n",
       "    .dataframe tbody tr th:only-of-type {\n",
       "        vertical-align: middle;\n",
       "    }\n",
       "\n",
       "    .dataframe tbody tr th {\n",
       "        vertical-align: top;\n",
       "    }\n",
       "\n",
       "    .dataframe thead th {\n",
       "        text-align: right;\n",
       "    }\n",
       "</style>\n",
       "<table border=\"1\" class=\"dataframe\">\n",
       "  <thead>\n",
       "    <tr style=\"text-align: right;\">\n",
       "      <th></th>\n",
       "      <th>ID</th>\n",
       "      <th>DATA</th>\n",
       "      <th>TITULO</th>\n",
       "      <th>EMPRESA</th>\n",
       "      <th>LOCAL</th>\n",
       "      <th>LINK</th>\n",
       "      <th>DESCRICAO</th>\n",
       "      <th>0</th>\n",
       "    </tr>\n",
       "  </thead>\n",
       "  <tbody>\n",
       "    <tr>\n",
       "      <th>29</th>\n",
       "      <td>vaga-de-est%C3%A1gio-ci%C3%AAncia-de-dados-dat...</td>\n",
       "      <td>2023-07-13</td>\n",
       "      <td>Vaga de Estágio Ciência de Dados (Data Science...</td>\n",
       "      <td>121 Labs</td>\n",
       "      <td>Belo Horizonte, MG</td>\n",
       "      <td>https://br.linkedin.com/jobs/view/vaga-de-est%...</td>\n",
       "      <td>A 121 Labs é um laboratório de inovação com fo...</td>\n",
       "      <td>0</td>\n",
       "    </tr>\n",
       "    <tr>\n",
       "      <th>27</th>\n",
       "      <td>data-scientist-supply-chain-management-remote-...</td>\n",
       "      <td>2023-07-13</td>\n",
       "      <td>Data Scientist (Supply Chain Management) - Rem...</td>\n",
       "      <td>Mondelēz International</td>\n",
       "      <td>Brasil</td>\n",
       "      <td>https://br.linkedin.com/jobs/view/data-scienti...</td>\n",
       "      <td>Job Description\\n\\nAre You Ready to Make It Ha...</td>\n",
       "      <td>1</td>\n",
       "    </tr>\n",
       "    <tr>\n",
       "      <th>63</th>\n",
       "      <td>senior-data-engineer-poatek-brazil-applicants-...</td>\n",
       "      <td>2023-07-13</td>\n",
       "      <td>Senior Data Engineer (Poatek- Brazil Applicants)</td>\n",
       "      <td>WillowTree</td>\n",
       "      <td>Porto Alegre, RS</td>\n",
       "      <td>https://br.linkedin.com/jobs/view/senior-data-...</td>\n",
       "      <td>Senior Data Engineer\\n\\nSão Paulo-SP, Brazil o...</td>\n",
       "      <td>0</td>\n",
       "    </tr>\n",
       "    <tr>\n",
       "      <th>62</th>\n",
       "      <td>senior-data-engineer-poatek-brazil-applicants-...</td>\n",
       "      <td>2023-07-13</td>\n",
       "      <td>Senior Data Engineer (Poatek- Brazil Applicants)</td>\n",
       "      <td>WillowTree</td>\n",
       "      <td>Porto Alegre, RS</td>\n",
       "      <td>https://br.linkedin.com/jobs/view/senior-data-...</td>\n",
       "      <td>Senior Data Engineer\\n\\nSão Paulo-SP, Brazil o...</td>\n",
       "      <td>0</td>\n",
       "    </tr>\n",
       "    <tr>\n",
       "      <th>61</th>\n",
       "      <td>platform-react-native-engineer-poatek-brazil-a...</td>\n",
       "      <td>2023-07-13</td>\n",
       "      <td>Platform React Native Engineer (Poatek- Brazil...</td>\n",
       "      <td>WillowTree</td>\n",
       "      <td>São Paulo, Brasil</td>\n",
       "      <td>https://br.linkedin.com/jobs/view/platform-rea...</td>\n",
       "      <td>Mid-Level React Native Engineer\\n\\nSão Paulo-S...</td>\n",
       "      <td>0</td>\n",
       "    </tr>\n",
       "    <tr>\n",
       "      <th>36</th>\n",
       "      <td>data-analytics-analyst-cross-border-team-at-sh...</td>\n",
       "      <td>2023-07-13</td>\n",
       "      <td>Data &amp; Analytics Analyst (Cross Border Team)</td>\n",
       "      <td>Shopee</td>\n",
       "      <td>São Paulo, SP</td>\n",
       "      <td>https://br.linkedin.com/jobs/view/data-analyti...</td>\n",
       "      <td>Job Description\\n\\nDevelop reports, dashboards...</td>\n",
       "      <td>0</td>\n",
       "    </tr>\n",
       "    <tr>\n",
       "      <th>14</th>\n",
       "      <td>senior-data-scientist-poatek-brazil-applicants...</td>\n",
       "      <td>2023-07-13</td>\n",
       "      <td>Senior Data Scientist (Poatek- Brazil Applicants)</td>\n",
       "      <td>WillowTree</td>\n",
       "      <td>São Paulo, Brasil</td>\n",
       "      <td>https://br.linkedin.com/jobs/view/senior-data-...</td>\n",
       "      <td>Senior Data Scientist\\n\\nSão Paulo-SP, Brazil ...</td>\n",
       "      <td>1</td>\n",
       "    </tr>\n",
       "    <tr>\n",
       "      <th>17</th>\n",
       "      <td>real-world-late-phase-clinical-operations-lead...</td>\n",
       "      <td>2023-07-13</td>\n",
       "      <td>Real World Late Phase - Clinical Operations Lead</td>\n",
       "      <td>IQVIA</td>\n",
       "      <td>São Paulo, SP</td>\n",
       "      <td>https://br.linkedin.com/jobs/view/real-world-l...</td>\n",
       "      <td>Job Overview:\\n\\nIndependently direct the exec...</td>\n",
       "      <td>0</td>\n",
       "    </tr>\n",
       "    <tr>\n",
       "      <th>53</th>\n",
       "      <td>principal-data-scientist-poatek-brazil-applica...</td>\n",
       "      <td>2023-07-13</td>\n",
       "      <td>Principal Data Scientist (Poatek- Brazil Appli...</td>\n",
       "      <td>WillowTree</td>\n",
       "      <td>Porto Alegre, RS</td>\n",
       "      <td>https://br.linkedin.com/jobs/view/principal-da...</td>\n",
       "      <td>Principal Data Scientist\\n\\nSão Paulo-SP, Braz...</td>\n",
       "      <td>1</td>\n",
       "    </tr>\n",
       "    <tr>\n",
       "      <th>11</th>\n",
       "      <td>digital-solution-consultant-kalypso-at-kalypso...</td>\n",
       "      <td>2023-07-13</td>\n",
       "      <td>Digital Solution Consultant - Kalypso</td>\n",
       "      <td>Kalypso: A Rockwell Automation Business</td>\n",
       "      <td>Jundiaí, SP</td>\n",
       "      <td>https://br.linkedin.com/jobs/view/digital-solu...</td>\n",
       "      <td>Rockwell Automation is a global technology lea...</td>\n",
       "      <td>0</td>\n",
       "    </tr>\n",
       "  </tbody>\n",
       "</table>\n",
       "</div>"
      ],
      "text/plain": [
       "                                                   ID        DATA  \\\n",
       "29  vaga-de-est%C3%A1gio-ci%C3%AAncia-de-dados-dat...  2023-07-13   \n",
       "27  data-scientist-supply-chain-management-remote-...  2023-07-13   \n",
       "63  senior-data-engineer-poatek-brazil-applicants-...  2023-07-13   \n",
       "62  senior-data-engineer-poatek-brazil-applicants-...  2023-07-13   \n",
       "61  platform-react-native-engineer-poatek-brazil-a...  2023-07-13   \n",
       "36  data-analytics-analyst-cross-border-team-at-sh...  2023-07-13   \n",
       "14  senior-data-scientist-poatek-brazil-applicants...  2023-07-13   \n",
       "17  real-world-late-phase-clinical-operations-lead...  2023-07-13   \n",
       "53  principal-data-scientist-poatek-brazil-applica...  2023-07-13   \n",
       "11  digital-solution-consultant-kalypso-at-kalypso...  2023-07-13   \n",
       "\n",
       "                                               TITULO  \\\n",
       "29  Vaga de Estágio Ciência de Dados (Data Science...   \n",
       "27  Data Scientist (Supply Chain Management) - Rem...   \n",
       "63   Senior Data Engineer (Poatek- Brazil Applicants)   \n",
       "62   Senior Data Engineer (Poatek- Brazil Applicants)   \n",
       "61  Platform React Native Engineer (Poatek- Brazil...   \n",
       "36       Data & Analytics Analyst (Cross Border Team)   \n",
       "14  Senior Data Scientist (Poatek- Brazil Applicants)   \n",
       "17   Real World Late Phase - Clinical Operations Lead   \n",
       "53  Principal Data Scientist (Poatek- Brazil Appli...   \n",
       "11              Digital Solution Consultant - Kalypso   \n",
       "\n",
       "                                    EMPRESA               LOCAL  \\\n",
       "29                                 121 Labs  Belo Horizonte, MG   \n",
       "27                   Mondelēz International              Brasil   \n",
       "63                               WillowTree    Porto Alegre, RS   \n",
       "62                               WillowTree    Porto Alegre, RS   \n",
       "61                               WillowTree   São Paulo, Brasil   \n",
       "36                                   Shopee       São Paulo, SP   \n",
       "14                               WillowTree   São Paulo, Brasil   \n",
       "17                                    IQVIA       São Paulo, SP   \n",
       "53                               WillowTree    Porto Alegre, RS   \n",
       "11  Kalypso: A Rockwell Automation Business         Jundiaí, SP   \n",
       "\n",
       "                                                 LINK  \\\n",
       "29  https://br.linkedin.com/jobs/view/vaga-de-est%...   \n",
       "27  https://br.linkedin.com/jobs/view/data-scienti...   \n",
       "63  https://br.linkedin.com/jobs/view/senior-data-...   \n",
       "62  https://br.linkedin.com/jobs/view/senior-data-...   \n",
       "61  https://br.linkedin.com/jobs/view/platform-rea...   \n",
       "36  https://br.linkedin.com/jobs/view/data-analyti...   \n",
       "14  https://br.linkedin.com/jobs/view/senior-data-...   \n",
       "17  https://br.linkedin.com/jobs/view/real-world-l...   \n",
       "53  https://br.linkedin.com/jobs/view/principal-da...   \n",
       "11  https://br.linkedin.com/jobs/view/digital-solu...   \n",
       "\n",
       "                                            DESCRICAO  0  \n",
       "29  A 121 Labs é um laboratório de inovação com fo...  0  \n",
       "27  Job Description\\n\\nAre You Ready to Make It Ha...  1  \n",
       "63  Senior Data Engineer\\n\\nSão Paulo-SP, Brazil o...  0  \n",
       "62  Senior Data Engineer\\n\\nSão Paulo-SP, Brazil o...  0  \n",
       "61  Mid-Level React Native Engineer\\n\\nSão Paulo-S...  0  \n",
       "36  Job Description\\n\\nDevelop reports, dashboards...  0  \n",
       "14  Senior Data Scientist\\n\\nSão Paulo-SP, Brazil ...  1  \n",
       "17  Job Overview:\\n\\nIndependently direct the exec...  0  \n",
       "53  Principal Data Scientist\\n\\nSão Paulo-SP, Braz...  1  \n",
       "11  Rockwell Automation is a global technology lea...  0  "
      ]
     },
     "execution_count": 7,
     "metadata": {},
     "output_type": "execute_result"
    }
   ],
   "source": [
    "df_combined.sample(10)"
   ]
  },
  {
   "cell_type": "markdown",
   "id": "2ce423b3",
   "metadata": {},
   "source": [
    "## Conclusões"
   ]
  },
  {
   "cell_type": "markdown",
   "id": "c6c97e74",
   "metadata": {},
   "source": [
    "Conforme esperado - dada as métricas apresentadadas pelo modelo em treino - o modelo performou muito bem com novos dados, assinalando vagas com a relevância correta.\n",
    "\n",
    "Um ponto interessante é a demonstração do data drift. Ao utilizarmos dados sintéticos, com uma sintaxe e formatação completamente diferente, o modelo performou muito mal.\n",
    "\n",
    "Já com dados reais, coletados na mesma formatação com que o modelo foi treinado, o modelo performa muito bem."
   ]
  },
  {
   "cell_type": "code",
   "execution_count": null,
   "id": "3dbf64f6",
   "metadata": {},
   "outputs": [],
   "source": []
  }
 ],
 "metadata": {
  "kernelspec": {
   "display_name": "Python 3 (ipykernel)",
   "language": "python",
   "name": "python3"
  },
  "language_info": {
   "codemirror_mode": {
    "name": "ipython",
    "version": 3
   },
   "file_extension": ".py",
   "mimetype": "text/x-python",
   "name": "python",
   "nbconvert_exporter": "python",
   "pygments_lexer": "ipython3",
   "version": "3.9.13"
  }
 },
 "nbformat": 4,
 "nbformat_minor": 5
}
