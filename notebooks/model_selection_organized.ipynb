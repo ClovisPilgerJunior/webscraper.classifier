{
 "cells": [
  {
   "cell_type": "markdown",
   "id": "e0d02907",
   "metadata": {},
   "source": [
    "# Importação das bibliotecas necessárias\n"
   ]
  },
  {
   "cell_type": "code",
   "execution_count": 1,
   "id": "d64f2d92",
   "metadata": {},
   "outputs": [],
   "source": [
    "import pandas as pd\n",
    "from sklearn.model_selection import train_test_split\n",
    "from sklearn.feature_extraction.text import TfidfVectorizer\n",
    "from sklearn.ensemble import RandomForestClassifier\n",
    "from sklearn.metrics import classification_report\n",
    "from sklearn.model_selection import GridSearchCV\n",
    "import matplotlib.pyplot as plt\n",
    "import nltk\n",
    "from nltk.corpus import stopwords\n",
    "from nltk.tokenize import word_tokenize"
   ]
  },
  {
   "cell_type": "code",
   "execution_count": 2,
   "id": "1a20499a",
   "metadata": {},
   "outputs": [
    {
     "data": {
      "text/html": [
       "<div>\n",
       "<style scoped>\n",
       "    .dataframe tbody tr th:only-of-type {\n",
       "        vertical-align: middle;\n",
       "    }\n",
       "\n",
       "    .dataframe tbody tr th {\n",
       "        vertical-align: top;\n",
       "    }\n",
       "\n",
       "    .dataframe thead th {\n",
       "        text-align: right;\n",
       "    }\n",
       "</style>\n",
       "<table border=\"1\" class=\"dataframe\">\n",
       "  <thead>\n",
       "    <tr style=\"text-align: right;\">\n",
       "      <th></th>\n",
       "      <th>ID</th>\n",
       "      <th>DATA</th>\n",
       "      <th>TITULO</th>\n",
       "      <th>EMPRESA</th>\n",
       "      <th>LOCAL</th>\n",
       "      <th>LINK</th>\n",
       "      <th>DESCRICAO</th>\n",
       "      <th>RELEVANCIA</th>\n",
       "    </tr>\n",
       "  </thead>\n",
       "  <tbody>\n",
       "    <tr>\n",
       "      <th>375</th>\n",
       "      <td>staff-react-native-engineer-poatek-brazil-appl...</td>\n",
       "      <td>2023-07-11</td>\n",
       "      <td>Staff React Native Engineer (Poatek- Brazil ap...</td>\n",
       "      <td>WillowTree</td>\n",
       "      <td>Porto Alegre, RS</td>\n",
       "      <td>https://br.linkedin.com/jobs/view/staff-react-...</td>\n",
       "      <td>Staff React Native Engineer\\n\\nSão Paulo-SP, B...</td>\n",
       "      <td>0</td>\n",
       "    </tr>\n",
       "    <tr>\n",
       "      <th>335</th>\n",
       "      <td>senior-analyst-supply-analytics-team-bangkok-b...</td>\n",
       "      <td>2023-07-11</td>\n",
       "      <td>Senior Analyst (Supply Analytics team, Bangkok...</td>\n",
       "      <td>Agoda</td>\n",
       "      <td>Brasília, DF</td>\n",
       "      <td>https://br.linkedin.com/jobs/view/senior-analy...</td>\n",
       "      <td>About Agoda\\n\\nAgoda is an online travel booki...</td>\n",
       "      <td>0</td>\n",
       "    </tr>\n",
       "    <tr>\n",
       "      <th>277</th>\n",
       "      <td>t%C3%A9cnico-de-seguran%C3%A7a-do-trabalho-pl-...</td>\n",
       "      <td>2023-07-11</td>\n",
       "      <td>TÉCNICO DE SEGURANÇA DO TRABALHO PL - Curitiba/PR</td>\n",
       "      <td>3778</td>\n",
       "      <td>Curitiba, PR</td>\n",
       "      <td>https://br.linkedin.com/jobs/view/t%C3%A9cnico...</td>\n",
       "      <td>A 3778 é uma HealthTech de tecnologia que está...</td>\n",
       "      <td>0</td>\n",
       "    </tr>\n",
       "    <tr>\n",
       "      <th>314</th>\n",
       "      <td>pessoa-desenvolvedora-oracle-s%C3%AAnior-at-yd...</td>\n",
       "      <td>2023-07-11</td>\n",
       "      <td>PESSOA DESENVOLVEDORA ORACLE SÊNIOR</td>\n",
       "      <td>YDUQS</td>\n",
       "      <td>Rio de Janeiro, RJ</td>\n",
       "      <td>https://br.linkedin.com/jobs/view/pessoa-desen...</td>\n",
       "      <td>AQUI SUA CARREIRA COMEÇA GRANDE.\\n\\nVENHA SER ...</td>\n",
       "      <td>0</td>\n",
       "    </tr>\n",
       "    <tr>\n",
       "      <th>203</th>\n",
       "      <td>associate-managing-consultant-advisors-client-...</td>\n",
       "      <td>2023-07-11</td>\n",
       "      <td>Associate Managing Consultant, Advisors Client...</td>\n",
       "      <td>Mastercard</td>\n",
       "      <td>São Paulo, SP</td>\n",
       "      <td>https://br.linkedin.com/jobs/view/associate-ma...</td>\n",
       "      <td>Our Purpose\\n\\nWe work to connect and power an...</td>\n",
       "      <td>1</td>\n",
       "    </tr>\n",
       "  </tbody>\n",
       "</table>\n",
       "</div>"
      ],
      "text/plain": [
       "                                                    ID        DATA  \\\n",
       "375  staff-react-native-engineer-poatek-brazil-appl...  2023-07-11   \n",
       "335  senior-analyst-supply-analytics-team-bangkok-b...  2023-07-11   \n",
       "277  t%C3%A9cnico-de-seguran%C3%A7a-do-trabalho-pl-...  2023-07-11   \n",
       "314  pessoa-desenvolvedora-oracle-s%C3%AAnior-at-yd...  2023-07-11   \n",
       "203  associate-managing-consultant-advisors-client-...  2023-07-11   \n",
       "\n",
       "                                                TITULO     EMPRESA  \\\n",
       "375  Staff React Native Engineer (Poatek- Brazil ap...  WillowTree   \n",
       "335  Senior Analyst (Supply Analytics team, Bangkok...       Agoda   \n",
       "277  TÉCNICO DE SEGURANÇA DO TRABALHO PL - Curitiba/PR        3778   \n",
       "314                PESSOA DESENVOLVEDORA ORACLE SÊNIOR       YDUQS   \n",
       "203  Associate Managing Consultant, Advisors Client...  Mastercard   \n",
       "\n",
       "                  LOCAL                                               LINK  \\\n",
       "375    Porto Alegre, RS  https://br.linkedin.com/jobs/view/staff-react-...   \n",
       "335        Brasília, DF  https://br.linkedin.com/jobs/view/senior-analy...   \n",
       "277        Curitiba, PR  https://br.linkedin.com/jobs/view/t%C3%A9cnico...   \n",
       "314  Rio de Janeiro, RJ  https://br.linkedin.com/jobs/view/pessoa-desen...   \n",
       "203       São Paulo, SP  https://br.linkedin.com/jobs/view/associate-ma...   \n",
       "\n",
       "                                             DESCRICAO  RELEVANCIA  \n",
       "375  Staff React Native Engineer\\n\\nSão Paulo-SP, B...           0  \n",
       "335  About Agoda\\n\\nAgoda is an online travel booki...           0  \n",
       "277  A 3778 é uma HealthTech de tecnologia que está...           0  \n",
       "314  AQUI SUA CARREIRA COMEÇA GRANDE.\\n\\nVENHA SER ...           0  \n",
       "203  Our Purpose\\n\\nWe work to connect and power an...           1  "
      ]
     },
     "execution_count": 2,
     "metadata": {},
     "output_type": "execute_result"
    }
   ],
   "source": [
    "#Importando os dados\n",
    "data = pd.read_csv(\"dados_classificados.csv\")\n",
    "data.sample(5)"
   ]
  },
  {
   "cell_type": "markdown",
   "id": "ea3ed188",
   "metadata": {},
   "source": [
    "# EDA"
   ]
  },
  {
   "cell_type": "markdown",
   "id": "0c2e49ee",
   "metadata": {},
   "source": [
    "Vamos agora verificar quais são as maiores ocorrências na coluna TITULO"
   ]
  },
  {
   "cell_type": "code",
   "execution_count": 3,
   "id": "dd9eb18f",
   "metadata": {
    "scrolled": true
   },
   "outputs": [
    {
     "name": "stdout",
     "output_type": "stream",
     "text": [
      "                                               Título  Ocorrência\n",
      "0   Chief Product and Technology Officer, gt.schoo...          12\n",
      "1   Chief Product Officer, gt.school (Remote) - $8...          12\n",
      "2   Manager, Search Engine Optimization (SEO) – Ba...          11\n",
      "3                         Remote Ad Optimizer - LATAM          11\n",
      "4   Part-Time Personalized Internet Ads Assessor -...          11\n",
      "5   Manager, Marketing Strategy & Analytics (Bangk...          11\n",
      "6   Analytical roles – Analyst/ Senior Analyst/ As...          11\n",
      "7   Senior Analyst (Supply Analytics team, Bangkok...          11\n",
      "8   Associate Manager, Marketing Strategy & Analyt...          11\n",
      "9   Senior Manager – Marketing Strategies and Anal...          11\n",
      "10  Chief Technology Officer, gt.school (Remote) -...           9\n",
      "11  Part-Time Personalized Internet Ads Assessor -...           8\n",
      "12                 Ubuntu Quality Engineering Manager           7\n",
      "13                          Cientista de Dados Sênior           6\n",
      "14                               Cloud Data Architect           5\n",
      "15                                       ML Architect           5\n",
      "16  Senior Director of Product Management, gt.scho...           4\n"
     ]
    }
   ],
   "source": [
    "# Contar a ocorrência de cada título\n",
    "title_occurrence = data['TITULO'].value_counts()\n",
    "\n",
    "# Filtrar os títulos que aparecem mais de 3 vezes\n",
    "filtered_titles = title_occurrence[title_occurrence > 3]\n",
    "\n",
    "# Criar um DataFrame com os títulos e suas ocorrências\n",
    "table_duplicates = pd.DataFrame({'Título': filtered_titles.index, 'Ocorrência': filtered_titles.values})\n",
    "\n",
    "# Exibir a tabela na tela\n",
    "print(table_duplicates)"
   ]
  },
  {
   "cell_type": "markdown",
   "id": "b68b1dfd",
   "metadata": {},
   "source": [
    "É notável que apesar de que as linhas não são duplicadas, varias posições são duplicadas, porém anunciadas em cidades diferentes. No tratamento de variáveis vamos removê-las, e manter apenas uma ocorrência."
   ]
  },
  {
   "cell_type": "markdown",
   "id": "b1f9b0d8",
   "metadata": {},
   "source": [
    "## Feature Engineering"
   ]
  },
  {
   "cell_type": "code",
   "execution_count": 4,
   "id": "3198384f",
   "metadata": {},
   "outputs": [
    {
     "data": {
      "image/png": "[encoded data removed]",
      "text/plain": [
       "<Figure size 640x480 with 1 Axes>"
      ]
     },
     "metadata": {},
     "output_type": "display_data"
    }
   ],
   "source": [
    "# Contar a frequência de cada valor na coluna \"RELEVANCIA\"\n",
    "relevancia_counts = data['RELEVANCIA'].value_counts()\n",
    "\n",
    "# Criar o gráfico de barras\n",
    "plt.bar(relevancia_counts.index, relevancia_counts.values)\n",
    "\n",
    "# Adicionar rótulos e título ao gráfico\n",
    "plt.xlabel('Relevância')\n",
    "plt.ylabel('Frequência')\n",
    "plt.title('Frequência de Relevância')\n",
    "\n",
    "# Exibir o gráfico\n",
    "plt.show()"
   ]
  },
  {
   "cell_type": "markdown",
   "id": "497030d4",
   "metadata": {},
   "source": [
    "Os dados estão muito desbalanceados, como o volume de dados não é muito grande, vamos fazer algumas adaptações. Primeiro, vamos juntar todos os valores 2 com 1. Perderemos algumas informações, mas será valioso para nosso processo de treinamento do modelo"
   ]
  },
  {
   "cell_type": "code",
   "execution_count": 5,
   "id": "2e1c1c95",
   "metadata": {},
   "outputs": [],
   "source": [
    "# Substituir os valores iguais a 2 por 1 na coluna \"RELEVANCIA\"\n",
    "data['RELEVANCIA'] = data['RELEVANCIA'].replace(2, 1)"
   ]
  },
  {
   "cell_type": "markdown",
   "id": "19b25c6b",
   "metadata": {},
   "source": [
    "Assim:"
   ]
  },
  {
   "cell_type": "code",
   "execution_count": 6,
   "id": "511a391d",
   "metadata": {},
   "outputs": [
    {
     "data": {
      "image/png": "[encoded data removed]",
      "text/plain": [
       "<Figure size 640x480 with 1 Axes>"
      ]
     },
     "metadata": {},
     "output_type": "display_data"
    }
   ],
   "source": [
    "# Contar a frequência de cada valor na coluna \"RELEVANCIA\"\n",
    "relevancia_counts = data['RELEVANCIA'].value_counts()\n",
    "\n",
    "# Criar o gráfico de barras\n",
    "plt.bar(relevancia_counts.index, relevancia_counts.values)\n",
    "\n",
    "# Adicionar rótulos e título ao gráfico\n",
    "plt.xlabel('Relevância')\n",
    "plt.ylabel('Frequência')\n",
    "plt.title('Frequência de Relevância')\n",
    "\n",
    "# Exibir o gráfico\n",
    "plt.show()"
   ]
  },
  {
   "cell_type": "markdown",
   "id": "adde1665",
   "metadata": {},
   "source": [
    "Os dados ainda estão desbalanceados, mas já é melhor do que antes. Agora vamos dividir os dados em treino e teste para continuar o feature engineering."
   ]
  },
  {
   "cell_type": "code",
   "execution_count": 7,
   "id": "4eac494a",
   "metadata": {},
   "outputs": [
    {
     "name": "stdout",
     "output_type": "stream",
     "text": [
      "Tamanho do conjunto de treinamento: 328\n",
      "Tamanho do conjunto de teste: 83\n"
     ]
    }
   ],
   "source": [
    "# Dividir os dados em atributos (X) e rótulos (y)\n",
    "X = data.drop('RELEVANCIA', axis=1)  # Supondo que a coluna \"RELEVANCIA\" seja o rótulo\n",
    "y = data['RELEVANCIA']\n",
    "\n",
    "# Dividir os dados em conjunto de treinamento e teste\n",
    "X_train, X_test, y_train, y_test = train_test_split(X, y, test_size=0.2, random_state=42)\n",
    "\n",
    "# Exibir os tamanhos dos conjuntos de treinamento e teste\n",
    "print(\"Tamanho do conjunto de treinamento:\", len(X_train))\n",
    "print(\"Tamanho do conjunto de teste:\", len(X_test))"
   ]
  },
  {
   "cell_type": "code",
   "execution_count": 8,
   "id": "92f7e9ce",
   "metadata": {},
   "outputs": [
    {
     "name": "stdout",
     "output_type": "stream",
     "text": [
      "['Chief Product and Technology Officer, gt.school (Remote) - $800,000/year USD', 'Chief Product Officer, gt.school (Remote) - $800,000/year USD', 'Manager, Search Engine Optimization (SEO) – Bangkok Based, Relocation Provided', 'Remote Ad Optimizer - LATAM', 'Part-Time Personalized Internet Ads Assessor - German Speakers in Brazil', 'Manager, Marketing Strategy & Analytics (Bangkok-based, relocation provided)', 'Analytical roles – Analyst/ Senior Analyst/ Associate Manager (Bangkok Based, Relocation Provided)', 'Senior Analyst (Supply Analytics team, Bangkok-based, Relocation provided)', 'Associate Manager, Marketing Strategy & Analytics (Bangkok-based, relocation provided)', 'Senior Manager – Marketing Strategies and Analytics (Bangkok-based, relocation provided)', 'Chief Technology Officer, gt.school (Remote) - $800,000/year USD', 'Part-Time Personalized Internet Ads Assessor - Dutch Speakers in Brazil', 'Ubuntu Quality Engineering Manager']\n"
     ]
    }
   ],
   "source": [
    "# Filtrar os títulos que possuem ocorrência maior ou igual a 7\n",
    "titles_to_remove = table_duplicates[table_duplicates['Ocorrência'] >= 7]['Título'].tolist()\n",
    "\n",
    "# Exibir a lista de títulos\n",
    "print(titles_to_remove)\n"
   ]
  },
  {
   "cell_type": "code",
   "execution_count": 9,
   "id": "ef2dc7ab",
   "metadata": {
    "scrolled": true
   },
   "outputs": [
    {
     "name": "stdout",
     "output_type": "stream",
     "text": [
      "Tamanho do conjunto de treinamento após a remoção: 232\n",
      "Tamanho do conjunto de teste após a remoção: 67\n"
     ]
    }
   ],
   "source": [
    "# Juntar X_train e y_train em um único DataFrame\n",
    "train_data = pd.concat([X_train, y_train], axis=1)\n",
    "\n",
    "# Juntar X_test e y_test em um único DataFrame\n",
    "test_data = pd.concat([X_test, y_test], axis=1)\n",
    "\n",
    "# Remover as linhas correspondentes nos conjuntos de treinamento\n",
    "train_data = train_data[~(train_data['TITULO'].isin(titles_to_remove) & train_data.duplicated(subset='TITULO', keep='first'))]\n",
    "\n",
    "# Remover as linhas correspondentes nos conjuntos de teste\n",
    "test_data = test_data[~(test_data['TITULO'].isin(titles_to_remove) & test_data.duplicated(subset='TITULO', keep='first'))]\n",
    "\n",
    "# Separar novamente X_train, y_train, X_test e y_test\n",
    "X_train = train_data.drop('RELEVANCIA', axis=1)\n",
    "y_train = train_data['RELEVANCIA']\n",
    "X_test = test_data.drop('RELEVANCIA', axis=1)\n",
    "y_test = test_data['RELEVANCIA']\n",
    "\n",
    "# Exibir os tamanhos dos conjuntos de treinamento e teste após a remoção\n",
    "print(\"Tamanho do conjunto de treinamento após a remoção:\", len(X_train))\n",
    "print(\"Tamanho do conjunto de teste após a remoção:\", len(X_test))\n"
   ]
  },
  {
   "cell_type": "markdown",
   "id": "2e1a8994",
   "metadata": {},
   "source": [
    "## Tratamento textual"
   ]
  },
  {
   "cell_type": "markdown",
   "id": "72490ee1",
   "metadata": {},
   "source": [
    "Iremos juntar o texto do titulo com a descrição, em uma nova coluna \"TEXT\""
   ]
  },
  {
   "cell_type": "code",
   "execution_count": 10,
   "id": "a7605495",
   "metadata": {},
   "outputs": [
    {
     "name": "stdout",
     "output_type": "stream",
     "text": [
      "Conjunto de treinamento:\n",
      "                                                    ID        DATA  \\\n",
      "167  online-growth-vice-president-at-frubana-361057...  2023-07-11   \n",
      "379  senior-manager-%E2%80%93-marketing-strategies-...  2023-07-11   \n",
      "140  analista-de-business-intelligence-sr-log%C3%AD...  2023-07-11   \n",
      "124  chief-product-officer-gt-school-remote-%24800-...  2023-07-11   \n",
      "3    pessoa-engenheira-de-dados-junior-at-clickbus-...  2023-07-11   \n",
      "\n",
      "                                                TITULO    EMPRESA  \\\n",
      "167                       Online Growth Vice President    Frubana   \n",
      "379  Senior Manager – Marketing Strategies and Anal...      Agoda   \n",
      "140   Analista de Business Intelligence SR - Logística  Grupo Nós   \n",
      "124  Chief Product Officer, gt.school (Remote) - $8...  Crossover   \n",
      "3                    PESSOA ENGENHEIRA DE DADOS JUNIOR   ClickBus   \n",
      "\n",
      "              LOCAL                                               LINK  \\\n",
      "167   São Paulo, SP  https://br.linkedin.com/jobs/view/online-growt...   \n",
      "379  Belém e Região  https://br.linkedin.com/jobs/view/senior-manag...   \n",
      "140     Cajamar, SP  https://br.linkedin.com/jobs/view/analista-de-...   \n",
      "124      Manaus, AM  https://br.linkedin.com/jobs/view/chief-produc...   \n",
      "3            Brasil  https://br.linkedin.com/jobs/view/pessoa-engen...   \n",
      "\n",
      "                                             DESCRICAO  \\\n",
      "167  ¿Te has imaginado unirte a una empresa que tie...   \n",
      "379  About Agoda\\n\\nAgoda is an online travel booki...   \n",
      "140  Faz parte dos atributos da nossa cultura a val...   \n",
      "124  Crossover is the world's #1 source of full-tim...   \n",
      "3    O que nos move diariamente?\\n\\nTodos os dias v...   \n",
      "\n",
      "                                                  TEXT  \n",
      "167  São Paulo, SP Frubana Online Growth Vice Presi...  \n",
      "379  Belém e Região Agoda Senior Manager – Marketin...  \n",
      "140  Cajamar, SP Grupo Nós Analista de Business Int...  \n",
      "124  Manaus, AM Crossover Chief Product Officer, gt...  \n",
      "3    Brasil ClickBus PESSOA ENGENHEIRA DE DADOS JUN...  \n",
      "\n",
      "Conjunto de teste:\n",
      "                                                    ID        DATA  \\\n",
      "173  analista-bi-sr-vaga-afirmativa-para-mulheres-a...  2023-07-11   \n",
      "33   senior-applied-data-scientist-at-dunnhumby-363...  2023-07-11   \n",
      "70                arquiteto-dados-at-hypera-3598404655  2023-07-11   \n",
      "362  associate-manager-marketing-strategy-analytics...  2023-07-11   \n",
      "82   gerente-de-cr%C3%A9dito-s%C3%AAnior-modelagem-...  2023-07-11   \n",
      "\n",
      "                                                TITULO    EMPRESA  \\\n",
      "173     Analista BI Sr - Vaga afirmativa para mulheres     Núclea   \n",
      "33                       Senior Applied Data Scientist  dunnhumby   \n",
      "70                                     ARQUITETO DADOS     Hypera   \n",
      "362  Associate Manager, Marketing Strategy & Analyt...      Agoda   \n",
      "82               Gerente de Crédito Sênior - Modelagem     PicPay   \n",
      "\n",
      "                 LOCAL                                               LINK  \\\n",
      "173      São Paulo, SP  https://br.linkedin.com/jobs/view/analista-bi-...   \n",
      "33   São Paulo, Brasil  https://br.linkedin.com/jobs/view/senior-appli...   \n",
      "70       São Paulo, SP  https://br.linkedin.com/jobs/view/arquiteto-da...   \n",
      "362      Fortaleza, CE  https://br.linkedin.com/jobs/view/associate-ma...   \n",
      "82       São Paulo, SP  https://br.linkedin.com/jobs/view/gerente-de-c...   \n",
      "\n",
      "                                             DESCRICAO  \\\n",
      "173  Vem pra NUCLEA\\n\\nJá imaginou se os meios de p...   \n",
      "33   We’re looking for a Senior Applied Data Scient...   \n",
      "70   Buscamos talentos que possam transformar possi...   \n",
      "362  About Agoda\\n\\nAgoda is an online travel booki...   \n",
      "82   Sobre o Picpay:\\n\\nCom mais de dez anos de his...   \n",
      "\n",
      "                                                  TEXT  \n",
      "173  São Paulo, SP Núclea Analista BI Sr - Vaga afi...  \n",
      "33   São Paulo, Brasil dunnhumby Senior Applied Dat...  \n",
      "70   São Paulo, SP Hypera ARQUITETO DADOS Buscamos ...  \n",
      "362  Fortaleza, CE Agoda Associate Manager, Marketi...  \n",
      "82   São Paulo, SP PicPay Gerente de Crédito Sênior...  \n"
     ]
    }
   ],
   "source": [
    "# Juntar as colunas \"DESCRICAO\", \"TITULO\", \"LOCAL\" e \"EMPRESA\" em uma nova coluna \"TEXT\" no conjunto de treinamento\n",
    "X_train['TEXT'] = X_train['LOCAL'] + ' ' + X_train['EMPRESA'] + ' ' + X_train['TITULO'] + ' ' + X_train['DESCRICAO'] \n",
    "\n",
    "# Juntar as colunas \"DESCRICAO\", \"TITULO\", \"LOCAL\" e \"EMPRESA\" em uma nova coluna \"TEXT\" no conjunto de teste\n",
    "X_test['TEXT'] = X_test['LOCAL'] + ' ' + X_test['EMPRESA'] + ' ' + X_test['TITULO'] + ' ' + X_test['DESCRICAO']\n",
    "\n",
    "# Exibir as primeiras linhas dos conjuntos de treinamento e teste com a nova coluna \"TEXT\"\n",
    "print(\"Conjunto de treinamento:\")\n",
    "print(X_train.head())\n",
    "print()\n",
    "print(\"Conjunto de teste:\")\n",
    "print(X_test.head())\n"
   ]
  },
  {
   "cell_type": "code",
   "execution_count": 11,
   "id": "0feb63fd",
   "metadata": {},
   "outputs": [
    {
     "name": "stdout",
     "output_type": "stream",
     "text": [
      "Conjunto de treinamento:\n",
      "                                                  TEXT\n",
      "167  São Paulo, SP Frubana Online Growth Vice Presi...\n",
      "379  Belém e Região Agoda Senior Manager – Marketin...\n",
      "140  Cajamar, SP Grupo Nós Analista de Business Int...\n",
      "124  Manaus, AM Crossover Chief Product Officer, gt...\n",
      "3    Brasil ClickBus PESSOA ENGENHEIRA DE DADOS JUN...\n",
      "\n",
      "Conjunto de teste:\n",
      "                                                  TEXT\n",
      "173  São Paulo, SP Núclea Analista BI Sr - Vaga afi...\n",
      "33   São Paulo, Brasil dunnhumby Senior Applied Dat...\n",
      "70   São Paulo, SP Hypera ARQUITETO DADOS Buscamos ...\n",
      "362  Fortaleza, CE Agoda Associate Manager, Marketi...\n",
      "82   São Paulo, SP PicPay Gerente de Crédito Sênior...\n"
     ]
    }
   ],
   "source": [
    "# Manter apenas a coluna \"TEXT\" no conjunto de treinamento\n",
    "X_train = X_train[['TEXT']]\n",
    "\n",
    "# Manter apenas a coluna \"TEXT\" no conjunto de teste\n",
    "X_test = X_test[['TEXT']]\n",
    "\n",
    "# Exibir as primeiras linhas dos conjuntos de treinamento e teste\n",
    "print(\"Conjunto de treinamento:\")\n",
    "print(X_train.head())\n",
    "print()\n",
    "print(\"Conjunto de teste:\")\n",
    "print(X_test.head())\n"
   ]
  },
  {
   "cell_type": "markdown",
   "id": "48bf39b3",
   "metadata": {},
   "source": [
    "### Removendo stopwords e pontuações"
   ]
  },
  {
   "cell_type": "code",
   "execution_count": 15,
   "id": "be037ef5",
   "metadata": {},
   "outputs": [
    {
     "name": "stdout",
     "output_type": "stream",
     "text": [
      "Conjunto de treinamento:\n",
      "                                                  TEXT\n",
      "167  paulo sp frubana online growth vice president ...\n",
      "379  belém região agoda senior manager – marketing ...\n",
      "140  cajamar sp analista business intelligence sr l...\n",
      "124  manaus crossover chief product officer gt.scho...\n",
      "3    brasil clickbus pessoa engenheira dados junior...\n",
      "\n",
      "Conjunto de teste:\n",
      "                                                  TEXT\n",
      "173  paulo sp núclea analista bi sr vaga afirmativa...\n",
      "33   paulo brasil dunnhumby senior applied data sci...\n",
      "70   paulo sp hypera arquiteto dados buscamos talen...\n",
      "362  fortaleza ce agoda associate manager marketing...\n",
      "82   paulo sp picpay gerente crédito sênior modelag...\n"
     ]
    }
   ],
   "source": [
    "import spacy\n",
    "from spacy.lang.en.stop_words import STOP_WORDS as en_stopwords\n",
    "from spacy.lang.pt.stop_words import STOP_WORDS as pt_stopwords\n",
    "from string import punctuation\n",
    "\n",
    "# Carregar os modelos linguísticos\n",
    "nlp_en = spacy.load('en_core_web_sm')\n",
    "nlp_pt = spacy.load('pt_core_news_sm')\n",
    "\n",
    "# Função para remover stopwords e pontuações de um texto\n",
    "def remove_stopwords_punctuations(text):\n",
    "    doc = nlp_en(text)\n",
    "    tokens = [token.text.lower() for token in doc if token.text.lower() not in en_stopwords and token.text.lower() not in pt_stopwords and token.text not in punctuation]\n",
    "    return ' '.join(tokens)\n",
    "\n",
    "# Remover stopwords e pontuações do conjunto de treinamento\n",
    "X_train['TEXT'] = X_train['TEXT'].apply(remove_stopwords_punctuations)\n",
    "\n",
    "# Remover stopwords e pontuações do conjunto de teste\n",
    "X_test['TEXT'] = X_test['TEXT'].apply(remove_stopwords_punctuations)\n",
    "\n",
    "# Exibir as primeiras linhas dos conjuntos de treinamento e teste após a remoção\n",
    "print(\"Conjunto de treinamento:\")\n",
    "print(X_train.head())\n",
    "print()\n",
    "print(\"Conjunto de teste:\")\n",
    "print(X_test.head())\n"
   ]
  },
  {
   "cell_type": "code",
   "execution_count": 17,
   "id": "53164b46",
   "metadata": {},
   "outputs": [
    {
     "name": "stdout",
     "output_type": "stream",
     "text": [
      "              precision    recall  f1-score   support\n",
      "\n",
      "           0       0.68      0.95      0.79        42\n",
      "           1       0.75      0.24      0.36        25\n",
      "\n",
      "    accuracy                           0.69        67\n",
      "   macro avg       0.71      0.60      0.58        67\n",
      "weighted avg       0.70      0.69      0.63        67\n",
      "\n"
     ]
    }
   ],
   "source": [
    "from sklearn.ensemble import RandomForestClassifier\n",
    "from sklearn.feature_extraction.text import TfidfVectorizer\n",
    "from sklearn.metrics import classification_report\n",
    "\n",
    "# Criar um vetorizador TF-IDF\n",
    "vectorizer = TfidfVectorizer()\n",
    "\n",
    "# Transformar os dados de texto em vetores TF-IDF\n",
    "X_train_tfidf = vectorizer.fit_transform(X_train['TEXT'])\n",
    "X_test_tfidf = vectorizer.transform(X_test['TEXT'])\n",
    "\n",
    "# Inicializar o classificador Random Forest\n",
    "clf = RandomForestClassifier(random_state=42)\n",
    "\n",
    "# Treinar o classificador usando o conjunto de treinamento vetorizado\n",
    "clf.fit(X_train_tfidf, y_train)\n",
    "\n",
    "# Fazer previsões no conjunto de teste vetorizado\n",
    "y_pred = clf.predict(X_test_tfidf)\n",
    "\n",
    "# Avaliar o desempenho do modelo\n",
    "report = classification_report(y_test, y_pred)\n",
    "print(report)\n"
   ]
  },
  {
   "cell_type": "code",
   "execution_count": 23,
   "id": "1bfa9498",
   "metadata": {},
   "outputs": [
    {
     "name": "stdout",
     "output_type": "stream",
     "text": [
      "              precision    recall  f1-score   support\n",
      "\n",
      "           0       0.81      0.93      0.87        42\n",
      "           1       0.84      0.64      0.73        25\n",
      "\n",
      "    accuracy                           0.82        67\n",
      "   macro avg       0.83      0.78      0.80        67\n",
      "weighted avg       0.82      0.82      0.81        67\n",
      "\n"
     ]
    }
   ],
   "source": [
    "import xgboost as xgb\n",
    "from sklearn.metrics import classification_report\n",
    "\n",
    "# Converter os dados de treinamento e teste em uma matriz DMatrix para uso com o XGBoost\n",
    "dtrain = xgb.DMatrix(X_train_tfidf, label=y_train)\n",
    "dtest = xgb.DMatrix(X_test_tfidf, label=y_test)\n",
    "\n",
    "# Definir os parâmetros do modelo XGBoost\n",
    "params = {\n",
    "    'objective': 'binary:logistic',\n",
    "    'eval_metric': 'error',\n",
    "    'seed': 42\n",
    "}\n",
    "\n",
    "# Treinar o modelo XGBoost\n",
    "model = xgb.train(params, dtrain)\n",
    "\n",
    "# Fazer previsões no conjunto de teste\n",
    "y_pred = model.predict(dtest)\n",
    "y_pred = (y_pred > 0.5).astype(int)\n",
    "\n",
    "# Avaliar o desempenho do modelo\n",
    "report = classification_report(y_test, y_pred)\n",
    "print(report)\n"
   ]
  },
  {
   "cell_type": "markdown",
   "id": "a2869527",
   "metadata": {},
   "source": [
    "##### O modelo com XGBoost possui boas métricas, e será utilizado como modelo final."
   ]
  },
  {
   "cell_type": "code",
   "execution_count": 24,
   "id": "5c6d4067",
   "metadata": {},
   "outputs": [],
   "source": [
    "import pickle\n",
    "\n",
    "# Salvar o modelo em um arquivo pickle\n",
    "with open('xgboost_model.pkl', 'wb') as file:\n",
    "    pickle.dump(model, file)"
   ]
  },
  {
   "cell_type": "code",
   "execution_count": null,
   "id": "69c29e95",
   "metadata": {},
   "outputs": [],
   "source": []
  }
 ],
 "metadata": {
  "kernelspec": {
   "display_name": "Python 3 (ipykernel)",
   "language": "python",
   "name": "python3"
  },
  "language_info": {
   "codemirror_mode": {
    "name": "ipython",
    "version": 3
   },
   "file_extension": ".py",
   "mimetype": "text/x-python",
   "name": "python",
   "nbconvert_exporter": "python",
   "pygments_lexer": "ipython3",
   "version": "3.10.10"
  }
 },
 "nbformat": 4,
 "nbformat_minor": 5
}
